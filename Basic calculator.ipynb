{
 "cells": [
  {
   "cell_type": "code",
   "execution_count": 1,
   "metadata": {},
   "outputs": [],
   "source": [
    "from tkinter import *"
   ]
  },
  {
   "cell_type": "code",
   "execution_count": 2,
   "metadata": {},
   "outputs": [],
   "source": [
    "def btnClick(num):\n",
    "    global op\n",
    "    op=op+str(num)\n",
    "    n.set(op)\n",
    "    \n",
    "def allClear():\n",
    "    global op\n",
    "    op=\"\"\n",
    "    n.set(\"\")\n",
    "\n",
    "def equals():\n",
    "    global op\n",
    "    rslt=str(eval(op))\n",
    "    n.set(rslt)\n",
    "    op=\"\""
   ]
  },
  {
   "cell_type": "code",
   "execution_count": 3,
   "metadata": {},
   "outputs": [],
   "source": [
    "root = Tk()\n",
    "root.title(\"Calculator\")\n",
    "root.resizable(0,0)\n",
    "op=\"\"\n",
    "\n",
    "n=StringVar()\n",
    "\n",
    "text= Entry(root,textvariable=n,bd=30,font=(\"Arial\",20,'bold'),bg=\"powder blue\",insertwidth=4,justify='right').grid(columnspan=4)\n"
   ]
  },
  {
   "cell_type": "code",
   "execution_count": 4,
   "metadata": {},
   "outputs": [],
   "source": [
    "btn7 = Button(root,padx=16,bd=8,fg=\"Green\", font=('Arial',20,'bold'),text=\"7\",bg=\"Black\",command=lambda : btnClick(7)).grid(row=1,column=0)\n",
    "btn8 = Button(root,padx=16,bd=8,fg=\"Green\", font=('Arial',20,'bold'),text=\"8\",bg=\"Black\",command=lambda : btnClick(8)).grid(row=1,column=1)\n",
    "btn9 = Button(root,padx=16,bd=8,fg=\"Green\", font=('Arial',20,'bold'),text=\"9\",bg=\"Black\",command=lambda : btnClick(9)).grid(row=1,column=2)\n",
    "addition = Button(root,padx=16,bd=8,fg=\"Green\", font=('Arial',20,'bold'),text=\"+\",bg=\"Black\",command=lambda : btnClick(\"+\")).grid(row=1,column=3)"
   ]
  },
  {
   "cell_type": "code",
   "execution_count": 5,
   "metadata": {},
   "outputs": [],
   "source": [
    "\n",
    "btn4 = Button(root,padx=16,bd=8,fg=\"Green\", font=('Arial',20,'bold'),text=\"4\",bg=\"Black\",command=lambda : btnClick(4)).grid(row=2,column=0)\n",
    "btn5 = Button(root,padx=16,bd=8,fg=\"Green\", font=('Arial',20,'bold'),text=\"5\",bg=\"Black\",command=lambda : btnClick(5)).grid(row=2,column=1)\n",
    "btn6 = Button(root,padx=16,bd=8,fg=\"Green\", font=('Arial',20,'bold'),text=\"6\",bg=\"Black\",command=lambda : btnClick(6)).grid(row=2,column=2)\n",
    "sub = Button(root,padx=16,bd=8,fg=\"Green\", font=('Arial',20,'bold'),text=\"-\",bg=\"Black\",command=lambda : btnClick(\"-\")).grid(row=2,column=3)"
   ]
  },
  {
   "cell_type": "code",
   "execution_count": 6,
   "metadata": {},
   "outputs": [],
   "source": [
    "btn1 = Button(root,padx=16,bd=8,fg=\"Green\", font=('Arial',20,'bold'),text=\"1\",bg=\"Black\",command=lambda : btnClick(1)).grid(row=3,column=0)\n",
    "btn2 = Button(root,padx=16,bd=8,fg=\"Green\", font=('Arial',20,'bold'),text=\"2\",bg=\"Black\",command=lambda : btnClick(2)).grid(row=3,column=1)\n",
    "btn3 = Button(root,padx=16,bd=8,fg=\"Green\", font=('Arial',20,'bold'),text=\"3\",bg=\"Black\",command=lambda : btnClick(3)).grid(row=3,column=2)\n",
    "mul = Button(root,padx=16,bd=8,fg=\"Green\", font=('Arial',20,'bold'),text=\"*\",bg=\"Black\",command=lambda : btnClick(\"*\")).grid(row=3,column=3)"
   ]
  },
  {
   "cell_type": "code",
   "execution_count": 7,
   "metadata": {},
   "outputs": [],
   "source": [
    "btn0 = Button(root,padx=16,bd=8,fg=\"Green\", font=('Arial',20,'bold'),text=\"0\",bg=\"Black\",command=lambda : btnClick(0)).grid(row=4,column=0)\n",
    "point = Button(root,padx=16,bd=8,fg=\"Green\", font=('Arial',20,'bold'),text=\".\",bg=\"Black\",command=lambda : btnClick(\".\")).grid(row=4,column=1)\n",
    "equal = Button(root,padx=16,bd=8,fg=\"Green\", font=('Arial',20,'bold'),text=\"=\",bg=\"Black\",command=equals).grid(row=4,column=2)\n",
    "division= Button(root,padx=16,bd=8,fg=\"Green\", font=('Arial',20,'bold'),text=\"/\",bg=\"Black\",command=lambda : btnClick(\"/\")).grid(row=4,column=3)"
   ]
  },
  {
   "cell_type": "code",
   "execution_count": 8,
   "metadata": {},
   "outputs": [],
   "source": [
    "o_brkt=Button(root,padx=16,bd=8,fg=\"Green\", font=('Arial',20,'bold'),text=\"(\",bg=\"Black\",command=lambda : btnClick(\"(\")).grid(row=5,column=0)\n",
    "btn_bckspc = Button(root,padx=16,bd=8,fg=\"Green\", font=('Arial',20,'bold'),text=\"<x|\",bg=\"Black\").grid(row=5,column=1)\n",
    "btn_ac = Button(root,padx=16,bd=8,fg=\"Green\", font=('Arial',20,'bold'),text=\"AC\",bg=\"Black\",command=allClear).grid(row=5,column=2)\n",
    "c_brkt=Button(root,padx=16,bd=8,fg=\"Green\", font=('Arial',20,'bold'),text=\")\",bg=\"Black\",command=lambda : btnClick(\")\")).grid(row=5,column=3)\n",
    "\n",
    "root.mainloop()\n"
   ]
  },
  {
   "cell_type": "code",
   "execution_count": null,
   "metadata": {},
   "outputs": [],
   "source": []
  }
 ],
 "metadata": {
  "kernelspec": {
   "display_name": "Python 3",
   "language": "python",
   "name": "python3"
  },
  "language_info": {
   "codemirror_mode": {
    "name": "ipython",
    "version": 3
   },
   "file_extension": ".py",
   "mimetype": "text/x-python",
   "name": "python",
   "nbconvert_exporter": "python",
   "pygments_lexer": "ipython3",
   "version": "3.7.0"
  }
 },
 "nbformat": 4,
 "nbformat_minor": 2
}
