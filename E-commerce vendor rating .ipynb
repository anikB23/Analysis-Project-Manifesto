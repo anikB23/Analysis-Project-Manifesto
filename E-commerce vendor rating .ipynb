{
 "cells": [
  {
   "cell_type": "code",
   "execution_count": 110,
   "metadata": {},
   "outputs": [
    {
     "name": "stdout",
     "output_type": "stream",
     "text": [
      "C:\\Users\\ANIK\\Downloads\n"
     ]
    }
   ],
   "source": [
    "# Step 1:  Set the Working Directory  \n",
    "%cd C:\\Users\\ANIK\\Downloads"
   ]
  },
  {
   "cell_type": "code",
   "execution_count": 111,
   "metadata": {},
   "outputs": [],
   "source": [
    "import warnings\n",
    "warnings.filterwarnings('ignore')"
   ]
  },
  {
   "cell_type": "code",
   "execution_count": 112,
   "metadata": {},
   "outputs": [],
   "source": [
    "# Step 2:  Import the required libraries, etc  \n",
    "import matplotlib.pyplot as plt\n",
    "import numpy as np\n",
    "import seaborn as sns\n",
    "\n",
    "from sklearn.discriminant_analysis import LinearDiscriminantAnalysis as lda\n",
    "import statsmodels.formula.api as smf\n",
    "from statsmodels.stats.anova import anova_lm\n",
    "import pandas as pd\n",
    "from pandas import DataFrame"
   ]
  },
  {
   "cell_type": "code",
   "execution_count": 113,
   "metadata": {},
   "outputs": [
    {
     "data": {
      "text/html": [
       "<div>\n",
       "<style scoped>\n",
       "    .dataframe tbody tr th:only-of-type {\n",
       "        vertical-align: middle;\n",
       "    }\n",
       "\n",
       "    .dataframe tbody tr th {\n",
       "        vertical-align: top;\n",
       "    }\n",
       "\n",
       "    .dataframe thead th {\n",
       "        text-align: right;\n",
       "    }\n",
       "</style>\n",
       "<table border=\"1\" class=\"dataframe\">\n",
       "  <thead>\n",
       "    <tr style=\"text-align: right;\">\n",
       "      <th></th>\n",
       "      <th>VendorID</th>\n",
       "      <th>ProductQuality</th>\n",
       "      <th>SpeedofDelivery</th>\n",
       "      <th>CompetitivePricing</th>\n",
       "      <th>ComplaintResolution</th>\n",
       "      <th>ProductLine</th>\n",
       "      <th>NumberofComplaints</th>\n",
       "      <th>Response</th>\n",
       "    </tr>\n",
       "  </thead>\n",
       "  <tbody>\n",
       "    <tr>\n",
       "      <th>0</th>\n",
       "      <td>2</td>\n",
       "      <td>0.641791</td>\n",
       "      <td>0.418182</td>\n",
       "      <td>0.028</td>\n",
       "      <td>0.598039</td>\n",
       "      <td>0.323008</td>\n",
       "      <td>0.076923</td>\n",
       "      <td>Certified</td>\n",
       "    </tr>\n",
       "    <tr>\n",
       "      <th>1</th>\n",
       "      <td>5</td>\n",
       "      <td>0.059701</td>\n",
       "      <td>0.400000</td>\n",
       "      <td>0.000</td>\n",
       "      <td>0.188406</td>\n",
       "      <td>0.272288</td>\n",
       "      <td>0.076923</td>\n",
       "      <td>NOTCertified</td>\n",
       "    </tr>\n",
       "    <tr>\n",
       "      <th>2</th>\n",
       "      <td>6</td>\n",
       "      <td>0.029851</td>\n",
       "      <td>0.254545</td>\n",
       "      <td>0.030</td>\n",
       "      <td>0.304348</td>\n",
       "      <td>0.428780</td>\n",
       "      <td>0.076923</td>\n",
       "      <td>NOTCertified</td>\n",
       "    </tr>\n",
       "    <tr>\n",
       "      <th>3</th>\n",
       "      <td>7</td>\n",
       "      <td>0.164179</td>\n",
       "      <td>0.327273</td>\n",
       "      <td>0.042</td>\n",
       "      <td>0.420290</td>\n",
       "      <td>0.352438</td>\n",
       "      <td>0.487179</td>\n",
       "      <td>Restricted</td>\n",
       "    </tr>\n",
       "    <tr>\n",
       "      <th>4</th>\n",
       "      <td>8</td>\n",
       "      <td>0.417910</td>\n",
       "      <td>0.345455</td>\n",
       "      <td>0.027</td>\n",
       "      <td>0.463768</td>\n",
       "      <td>0.424046</td>\n",
       "      <td>0.230769</td>\n",
       "      <td>NOTCertified</td>\n",
       "    </tr>\n",
       "  </tbody>\n",
       "</table>\n",
       "</div>"
      ],
      "text/plain": [
       "   VendorID  ProductQuality  SpeedofDelivery  CompetitivePricing  \\\n",
       "0         2        0.641791         0.418182               0.028   \n",
       "1         5        0.059701         0.400000               0.000   \n",
       "2         6        0.029851         0.254545               0.030   \n",
       "3         7        0.164179         0.327273               0.042   \n",
       "4         8        0.417910         0.345455               0.027   \n",
       "\n",
       "   ComplaintResolution  ProductLine  NumberofComplaints      Response  \n",
       "0             0.598039     0.323008            0.076923     Certified  \n",
       "1             0.188406     0.272288            0.076923  NOTCertified  \n",
       "2             0.304348     0.428780            0.076923  NOTCertified  \n",
       "3             0.420290     0.352438            0.487179    Restricted  \n",
       "4             0.463768     0.424046            0.230769  NOTCertified  "
      ]
     },
     "execution_count": 113,
     "metadata": {},
     "output_type": "execute_result"
    }
   ],
   "source": [
    "# Step 3:  Load the data into a Python dataset\n",
    "vendors = pd.read_csv(\"E_Commerce Vendors Rating.csv\", sep=\",\")\n",
    "vendors.head()"
   ]
  },
  {
   "cell_type": "code",
   "execution_count": 114,
   "metadata": {},
   "outputs": [
    {
     "name": "stdout",
     "output_type": "stream",
     "text": [
      "<class 'pandas.core.frame.DataFrame'>\n",
      "RangeIndex: 59381 entries, 0 to 59380\n",
      "Data columns (total 7 columns):\n",
      "ProductQuality         59381 non-null float64\n",
      "SpeedofDelivery        59381 non-null float64\n",
      "CompetitivePricing     59381 non-null float64\n",
      "ComplaintResolution    59381 non-null float64\n",
      "ProductLine            59381 non-null float64\n",
      "NumberofComplaints     59381 non-null float64\n",
      "Response               59381 non-null object\n",
      "dtypes: float64(6), object(1)\n",
      "memory usage: 3.2+ MB\n"
     ]
    }
   ],
   "source": [
    "# Step 4:  Remove the variable 'VendorID' from the Python dataset\n",
    "vendors = vendors [['ProductQuality', 'SpeedofDelivery', 'CompetitivePricing', 'ComplaintResolution', 'ProductLine', 'NumberofComplaints', 'Response']]\n",
    "vendors.info()"
   ]
  },
  {
   "cell_type": "code",
   "execution_count": 115,
   "metadata": {},
   "outputs": [
    {
     "data": {
      "text/plain": [
       "Text(0.5,1,'Product Quality -  by Response')"
      ]
     },
     "execution_count": 115,
     "metadata": {},
     "output_type": "execute_result"
    },
    {
     "data": {
      "image/png": "[encoded data removed]",
      "text/plain": [
       "<Figure size 504x432 with 1 Axes>"
      ]
     },
     "metadata": {
      "needs_background": "light"
     },
     "output_type": "display_data"
    }
   ],
   "source": [
    "# Step 5:  Visualize the data through Box Plots for each of the Predictors, grouped by the various classes of the Target  \n",
    "# Step 5a:  Draw a Box Plot for the Predictor 'ProductQuality' against the various classes of the Target  \n",
    "fig = plt.figure(figsize=(7,6))\n",
    "ax = fig.add_subplot (1,1,1)\n",
    "vendors.boxplot ('ProductQuality', by='Response', ax=ax)\n",
    "ax.set_xlabel ('Response')\n",
    "ax.set_ylabel ('Product Quality')\n",
    "ax.set_title ('Product Quality -  by Response', fontsize='16')"
   ]
  },
  {
   "cell_type": "code",
   "execution_count": 116,
   "metadata": {},
   "outputs": [
    {
     "data": {
      "text/plain": [
       "Text(0.5,1,'Speed of Delivery -  by Response')"
      ]
     },
     "execution_count": 116,
     "metadata": {},
     "output_type": "execute_result"
    },
    {
     "data": {
      "image/png": "[encoded data removed]",
      "text/plain": [
       "<Figure size 504x432 with 1 Axes>"
      ]
     },
     "metadata": {
      "needs_background": "light"
     },
     "output_type": "display_data"
    }
   ],
   "source": [
    "# Step 5b:  Draw a Box Plot for the Predictor 'SpeedofDelivery' against the various classes of the Target\n",
    "fig = plt.figure(figsize=(7,6))\n",
    "ax = fig.add_subplot (1,1,1)\n",
    "vendors.boxplot ('SpeedofDelivery', by='Response', ax=ax)\n",
    "ax.set_xlabel ('Response')\n",
    "ax.set_ylabel ('Speed of Delivery')\n",
    "ax.set_title ('Speed of Delivery -  by Response', fontsize='16')"
   ]
  },
  {
   "cell_type": "code",
   "execution_count": 117,
   "metadata": {},
   "outputs": [
    {
     "data": {
      "text/plain": [
       "Text(0.5,1,'Competitive Pricing -  by Response')"
      ]
     },
     "execution_count": 117,
     "metadata": {},
     "output_type": "execute_result"
    },
    {
     "data": {
      "image/png": "[encoded data removed]",
      "text/plain": [
       "<Figure size 504x432 with 1 Axes>"
      ]
     },
     "metadata": {
      "needs_background": "light"
     },
     "output_type": "display_data"
    }
   ],
   "source": [
    "# Step 5c:  Draw a Box Plot for the Predictor 'CompetitivePricing' against the various classes of the Target  \n",
    "fig = plt.figure(figsize=(7,6))\n",
    "ax = fig.add_subplot (1,1,1)\n",
    "vendors.boxplot ('CompetitivePricing', by='Response', ax=ax)\n",
    "ax.set_xlabel ('Response')\n",
    "ax.set_ylabel ('Competitive Pricing')\n",
    "ax.set_title ('Competitive Pricing -  by Response', fontsize='16')"
   ]
  },
  {
   "cell_type": "code",
   "execution_count": 118,
   "metadata": {},
   "outputs": [
    {
     "data": {
      "text/plain": [
       "Text(0.5,1,'Complaint Resolution -  by Response')"
      ]
     },
     "execution_count": 118,
     "metadata": {},
     "output_type": "execute_result"
    },
    {
     "data": {
      "image/png": "[encoded data removed]",
      "text/plain": [
       "<Figure size 504x432 with 1 Axes>"
      ]
     },
     "metadata": {
      "needs_background": "light"
     },
     "output_type": "display_data"
    }
   ],
   "source": [
    "# Step 5d:  Draw a Box Plot for the Predictor 'ComplaintResolution' against the various classes of the Target  \n",
    "fig = plt.figure(figsize=(7,6))\n",
    "ax = fig.add_subplot (1,1,1)\n",
    "vendors.boxplot ('ComplaintResolution', by='Response', ax=ax)\n",
    "ax.set_xlabel ('Response')\n",
    "ax.set_ylabel ('Complaint Resolution')\n",
    "ax.set_title ('Complaint Resolution -  by Response', fontsize='16')"
   ]
  },
  {
   "cell_type": "code",
   "execution_count": 119,
   "metadata": {},
   "outputs": [
    {
     "data": {
      "text/plain": [
       "Text(0.5,1,'Product Line -  by Response')"
      ]
     },
     "execution_count": 119,
     "metadata": {},
     "output_type": "execute_result"
    },
    {
     "data": {
      "image/png": "[encoded data removed]",
      "text/plain": [
       "<Figure size 504x432 with 1 Axes>"
      ]
     },
     "metadata": {
      "needs_background": "light"
     },
     "output_type": "display_data"
    }
   ],
   "source": [
    "# Step 5e:  Draw a Box Plot for the Predictor 'ProductLine' against the various classes of the Target  \n",
    "fig = plt.figure(figsize=(7,6))\n",
    "ax = fig.add_subplot (1,1,1)\n",
    "vendors.boxplot ('ProductLine', by='Response', ax=ax)\n",
    "ax.set_xlabel ('Response')\n",
    "ax.set_ylabel ('Product Line')\n",
    "ax.set_title ('Product Line -  by Response', fontsize='16')"
   ]
  },
  {
   "cell_type": "code",
   "execution_count": 120,
   "metadata": {},
   "outputs": [
    {
     "data": {
      "text/plain": [
       "Text(0.5,1,'Number of Complaints -  by Response')"
      ]
     },
     "execution_count": 120,
     "metadata": {},
     "output_type": "execute_result"
    },
    {
     "data": {
      "image/png": "[encoded data removed]",
      "text/plain": [
       "<Figure size 504x432 with 1 Axes>"
      ]
     },
     "metadata": {
      "needs_background": "light"
     },
     "output_type": "display_data"
    }
   ],
   "source": [
    "# Step 5f:  Draw a Box Plot for the Predictor 'NumberofComplaints' against the various classes of the Target  \n",
    "fig = plt.figure(figsize=(7,6))\n",
    "ax = fig.add_subplot (1,1,1)\n",
    "vendors.boxplot ('NumberofComplaints', by='Response', ax=ax)\n",
    "ax.set_xlabel ('Response')\n",
    "ax.set_ylabel ('Number of Complaints')\n",
    "ax.set_title ('Number of Complaints -  by Response', fontsize='16')\n"
   ]
  },
  {
   "cell_type": "code",
   "execution_count": 121,
   "metadata": {},
   "outputs": [
    {
     "name": "stdout",
     "output_type": "stream",
     "text": [
      "Group Counts:\n",
      "              Response\n",
      "Response              \n",
      "Certified         6906\n",
      "NOTCertified     35009\n",
      "Restricted       17466\n",
      "\n"
     ]
    }
   ],
   "source": [
    "# Step 6:  Select the Predictors to be used for building the (Linear) Discriminant Analysis model  \n",
    "# Step 6a:  Explore the distribution of the samples, grouped by the various classes of the Target  \n",
    "\n",
    "mix = vendors [['Response']].groupby (vendors ['Response']).count()\n",
    "mix.to_csv (\"Vendors (2 Category)_Target Mix.csv\")\n",
    "print('Group Counts:')\n",
    "print (mix)\n",
    "print ('')"
   ]
  },
  {
   "cell_type": "code",
   "execution_count": 122,
   "metadata": {},
   "outputs": [
    {
     "name": "stdout",
     "output_type": "stream",
     "text": [
      "Group Centroids:\n",
      "Response             Certified  NOTCertified  Restricted\n",
      "ProductQuality        0.676816      0.405143    0.299165\n",
      "SpeedofDelivery       0.353429      0.286941    0.280288\n",
      "CompetitivePricing    0.137791      0.187276    0.686547\n",
      "ComplaintResolution   0.510717      0.456656    0.433963\n",
      "ProductLine           0.479918      0.479141    0.445928\n",
      "NumberofComplaints    0.137981      0.187574    0.687840\n",
      "\n"
     ]
    }
   ],
   "source": [
    "# Step 6b:  Examine the average values for each of the Predictors, grouped by the various classes of the Target  \n",
    "\n",
    "centroids = vendors.groupby (vendors ['Response']).mean()\n",
    "centroids = centroids.T\n",
    "centroids.to_csv (\"Vendors (2 Category)_Feature Centroids.csv\")\n",
    "print ('Group Centroids:')\n",
    "print (centroids)\n",
    "print ('')\n"
   ]
  },
  {
   "cell_type": "code",
   "execution_count": 123,
   "metadata": {},
   "outputs": [
    {
     "name": "stdout",
     "output_type": "stream",
     "text": [
      "Predictor Omega squares:\n",
      "             Predictor   Between SS    Within SS     Total SS  \\\n",
      "0       ProductQuality   705.858971  1603.072740  2308.931711   \n",
      "1      SpeedofDelivery    29.321328   297.946438   327.267765   \n",
      "2   CompetitivePricing  3188.490700  1552.058178  4740.548878   \n",
      "3  ComplaintResolution    29.169351  1988.096035  2017.265386   \n",
      "4          ProductLine    13.708205   873.191478   886.899683   \n",
      "5   NumberofComplaints  3201.238646  1539.739257  4740.977903   \n",
      "\n",
      "   Omega square (%)  \n",
      "0         30.570803  \n",
      "1          8.959430  \n",
      "2         67.259948  \n",
      "3          1.445985  \n",
      "4          1.545632  \n",
      "5         67.522750  \n",
      "\n"
     ]
    }
   ],
   "source": [
    "# Step 6c:  Examine the variation in the data w.r.t. each of the Predictors, grouped by the various classes of the Target  \n",
    "\n",
    "all_predictors = ['ProductQuality', 'SpeedofDelivery', 'CompetitivePricing', 'ComplaintResolution', 'ProductLine', 'NumberofComplaints']\n",
    "formulae = ['ProductQuality ~ Response', 'SpeedofDelivery ~ Response', 'CompetitivePricing ~ Response', 'ComplaintResolution ~ Response', 'ProductLine ~ Response', 'NumberofComplaints ~ Response']\n",
    "anova_betweenss = np.zeros(6)\n",
    "anova_withinss = np.zeros(6)\n",
    "anova_totalss = np.zeros(6)\n",
    "anova_omega_square = np.zeros(6)\n",
    "for i in np.arange(6):\n",
    "    model = smf.ols (formulae [i], data=vendors)\n",
    "    results = model.fit()\n",
    "    anova_betweenss [i] = results.ess\n",
    "    anova_withinss [i] = results.ssr\n",
    "    anova_totalss [i] = results.centered_tss\n",
    "    anova_omega_square [i] = (1 - anova_withinss [i] / anova_totalss [i]) * 100\n",
    "\n",
    "omega_square_table = DataFrame()\n",
    "omega_square_table ['Predictor'] = all_predictors\n",
    "omega_square_table ['Between SS'] = anova_betweenss\n",
    "omega_square_table ['Within SS'] = anova_withinss\n",
    "omega_square_table ['Total SS'] = anova_totalss\n",
    "omega_square_table ['Omega square (%)'] = anova_omega_square\n",
    "omega_square_table.to_csv (\"Vendors (2 Category)_Predictor Omega-squares.csv\")\n",
    "print ('Predictor Omega squares:')\n",
    "print (omega_square_table)\n",
    "print ('')\n"
   ]
  },
  {
   "cell_type": "code",
   "execution_count": 124,
   "metadata": {},
   "outputs": [
    {
     "name": "stdout",
     "output_type": "stream",
     "text": [
      "Group Counts:\n",
      "              Response\n",
      "Response              \n",
      "Certified         6906\n",
      "NOTCertified     35009\n",
      "Restricted       17466\n",
      "\n",
      "Group Centroids:\n",
      "Response             Certified  NOTCertified  Restricted\n",
      "ProductQuality        0.676816      0.405143    0.299165\n",
      "SpeedofDelivery       0.353429      0.286941    0.280288\n",
      "CompetitivePricing    0.137791      0.187276    0.686547\n",
      "ComplaintResolution   0.510717      0.456656    0.433963\n",
      "ProductLine           0.479918      0.479141    0.445928\n",
      "NumberofComplaints    0.137981      0.187574    0.687840\n",
      "\n",
      "Predictor Omega squares:\n",
      "             Predictor   Between SS    Within SS     Total SS  \\\n",
      "0       ProductQuality   705.858971  1603.072740  2308.931711   \n",
      "1      SpeedofDelivery    29.321328   297.946438   327.267765   \n",
      "2   CompetitivePricing  3188.490700  1552.058178  4740.548878   \n",
      "3  ComplaintResolution    29.169351  1988.096035  2017.265386   \n",
      "4          ProductLine    13.708205   873.191478   886.899683   \n",
      "5   NumberofComplaints  3201.238646  1539.739257  4740.977903   \n",
      "\n",
      "   Omega square (%)  \n",
      "0         30.570803  \n",
      "1          8.959430  \n",
      "2         67.259948  \n",
      "3          1.445985  \n",
      "4          1.545632  \n",
      "5         67.522750  \n",
      "\n"
     ]
    }
   ],
   "source": [
    "# Step 6d:  Display the pertinent characteristics of the data, in order to select the Predictors  \n",
    "\n",
    "print ('Group Counts:')\n",
    "print (mix)\n",
    "print ('')\n",
    "print ('Group Centroids:')\n",
    "print (centroids)\n",
    "print ('')\n",
    "print ('Predictor Omega squares:')\n",
    "print (omega_square_table)\n",
    "print ('')"
   ]
  },
  {
   "cell_type": "code",
   "execution_count": 125,
   "metadata": {},
   "outputs": [],
   "source": [
    "# Step 7:  Prepare the data to be used for building the (Linear) Discriminant Analysis model  \n",
    "# Step 7a:  Specify the Features (i.e., the Predictors) to be used for building the model  \n",
    "\n",
    "predictors = ['ProductQuality', 'SpeedofDelivery', 'CompetitivePricing', 'NumberofComplaints']"
   ]
  },
  {
   "cell_type": "code",
   "execution_count": 126,
   "metadata": {},
   "outputs": [],
   "source": [
    "# Step 7b:  Specify the various classes of the Target variable  \n",
    "\n",
    "groups = ['NOTCertified', 'Certified','Restricted']"
   ]
  },
  {
   "cell_type": "code",
   "execution_count": 127,
   "metadata": {},
   "outputs": [
    {
     "name": "stdout",
     "output_type": "stream",
     "text": [
      "<class 'pandas.core.frame.DataFrame'>\n",
      "RangeIndex: 59381 entries, 0 to 59380\n",
      "Data columns (total 8 columns):\n",
      "ProductQuality         59381 non-null float64\n",
      "SpeedofDelivery        59381 non-null float64\n",
      "CompetitivePricing     59381 non-null float64\n",
      "ComplaintResolution    59381 non-null float64\n",
      "ProductLine            59381 non-null float64\n",
      "NumberofComplaints     59381 non-null float64\n",
      "Response               59381 non-null object\n",
      "ResponseCode           59381 non-null float64\n",
      "dtypes: float64(7), object(1)\n",
      "memory usage: 3.6+ MB\n"
     ]
    }
   ],
   "source": [
    "# Step 7c:  Encode the various classes of the Target variable  \n",
    "\n",
    "vendors ['ResponseCode'] = np.zeros(vendors ['Response'].count())\n",
    "vendors ['ResponseCode'] [vendors ['Response'] == 'Certified'] = 1\n",
    "vendors ['ResponseCode'] [vendors ['Response'] == 'Restricted'] = 2\n",
    "vendors.info()"
   ]
  },
  {
   "cell_type": "code",
   "execution_count": 128,
   "metadata": {},
   "outputs": [
    {
     "data": {
      "text/html": [
       "<div>\n",
       "<style scoped>\n",
       "    .dataframe tbody tr th:only-of-type {\n",
       "        vertical-align: middle;\n",
       "    }\n",
       "\n",
       "    .dataframe tbody tr th {\n",
       "        vertical-align: top;\n",
       "    }\n",
       "\n",
       "    .dataframe thead th {\n",
       "        text-align: right;\n",
       "    }\n",
       "</style>\n",
       "<table border=\"1\" class=\"dataframe\">\n",
       "  <thead>\n",
       "    <tr style=\"text-align: right;\">\n",
       "      <th></th>\n",
       "      <th>ProductQuality</th>\n",
       "      <th>SpeedofDelivery</th>\n",
       "      <th>CompetitivePricing</th>\n",
       "      <th>ComplaintResolution</th>\n",
       "      <th>ProductLine</th>\n",
       "      <th>NumberofComplaints</th>\n",
       "      <th>Response</th>\n",
       "      <th>ResponseCode</th>\n",
       "    </tr>\n",
       "  </thead>\n",
       "  <tbody>\n",
       "    <tr>\n",
       "      <th>0</th>\n",
       "      <td>0.641791</td>\n",
       "      <td>0.418182</td>\n",
       "      <td>0.028</td>\n",
       "      <td>0.598039</td>\n",
       "      <td>0.323008</td>\n",
       "      <td>0.076923</td>\n",
       "      <td>Certified</td>\n",
       "      <td>1.0</td>\n",
       "    </tr>\n",
       "    <tr>\n",
       "      <th>1</th>\n",
       "      <td>0.059701</td>\n",
       "      <td>0.400000</td>\n",
       "      <td>0.000</td>\n",
       "      <td>0.188406</td>\n",
       "      <td>0.272288</td>\n",
       "      <td>0.076923</td>\n",
       "      <td>NOTCertified</td>\n",
       "      <td>0.0</td>\n",
       "    </tr>\n",
       "    <tr>\n",
       "      <th>2</th>\n",
       "      <td>0.029851</td>\n",
       "      <td>0.254545</td>\n",
       "      <td>0.030</td>\n",
       "      <td>0.304348</td>\n",
       "      <td>0.428780</td>\n",
       "      <td>0.076923</td>\n",
       "      <td>NOTCertified</td>\n",
       "      <td>0.0</td>\n",
       "    </tr>\n",
       "    <tr>\n",
       "      <th>3</th>\n",
       "      <td>0.164179</td>\n",
       "      <td>0.327273</td>\n",
       "      <td>0.042</td>\n",
       "      <td>0.420290</td>\n",
       "      <td>0.352438</td>\n",
       "      <td>0.487179</td>\n",
       "      <td>Restricted</td>\n",
       "      <td>2.0</td>\n",
       "    </tr>\n",
       "    <tr>\n",
       "      <th>4</th>\n",
       "      <td>0.417910</td>\n",
       "      <td>0.345455</td>\n",
       "      <td>0.027</td>\n",
       "      <td>0.463768</td>\n",
       "      <td>0.424046</td>\n",
       "      <td>0.230769</td>\n",
       "      <td>NOTCertified</td>\n",
       "      <td>0.0</td>\n",
       "    </tr>\n",
       "  </tbody>\n",
       "</table>\n",
       "</div>"
      ],
      "text/plain": [
       "   ProductQuality  SpeedofDelivery  CompetitivePricing  ComplaintResolution  \\\n",
       "0        0.641791         0.418182               0.028             0.598039   \n",
       "1        0.059701         0.400000               0.000             0.188406   \n",
       "2        0.029851         0.254545               0.030             0.304348   \n",
       "3        0.164179         0.327273               0.042             0.420290   \n",
       "4        0.417910         0.345455               0.027             0.463768   \n",
       "\n",
       "   ProductLine  NumberofComplaints      Response  ResponseCode  \n",
       "0     0.323008            0.076923     Certified           1.0  \n",
       "1     0.272288            0.076923  NOTCertified           0.0  \n",
       "2     0.428780            0.076923  NOTCertified           0.0  \n",
       "3     0.352438            0.487179    Restricted           2.0  \n",
       "4     0.424046            0.230769  NOTCertified           0.0  "
      ]
     },
     "execution_count": 128,
     "metadata": {},
     "output_type": "execute_result"
    }
   ],
   "source": [
    "vendors.head()"
   ]
  },
  {
   "cell_type": "code",
   "execution_count": 129,
   "metadata": {},
   "outputs": [],
   "source": [
    "# Step 7d:  Create separate arrays for the Predictor variables and the Target variable  \n",
    "\n",
    "X = np.array(vendors [predictors])\n",
    "y = np.array(vendors [['ResponseCode']])\n",
    "y = y.ravel()"
   ]
  },
  {
   "cell_type": "code",
   "execution_count": 130,
   "metadata": {},
   "outputs": [],
   "source": [
    "# Step 8:  Build the (Linear) Discriminant Analysis model  \n",
    "\n",
    "classifier = lda()\n",
    "model = classifier.fit (X, y)"
   ]
  },
  {
   "cell_type": "code",
   "execution_count": null,
   "metadata": {},
   "outputs": [],
   "source": []
  },
  {
   "cell_type": "code",
   "execution_count": 131,
   "metadata": {},
   "outputs": [
    {
     "name": "stdout",
     "output_type": "stream",
     "text": [
      "Prior Probabilities of Groups:\n",
      "       Response  Prior Probabilities\n",
      "0  NOTCertified            58.956569\n",
      "1     Certified            11.629983\n",
      "2    Restricted            29.413449\n",
      "\n"
     ]
    }
   ],
   "source": [
    "# Step 9:  Explore the various facets of the (Linear) Discriminant Analysis model  \n",
    "# Step 9a:  Explore the Prior Probabilities (i.e., the distribution of the samples), grouped by the various classes of the Target  \n",
    "\n",
    "PriorProbabilities = DataFrame()\n",
    "PriorProbabilities ['Response'] = groups\n",
    "PriorProbabilities ['Prior Probabilities'] = 100*model.priors_ \n",
    "PriorProbabilities.to_csv (\"Vendors (2 Category)_Prior Probabilities.csv\")\n",
    "print ('Prior Probabilities of Groups:')\n",
    "print (PriorProbabilities)\n",
    "print ('')\n"
   ]
  },
  {
   "cell_type": "code",
   "execution_count": 132,
   "metadata": {},
   "outputs": [
    {
     "name": "stdout",
     "output_type": "stream",
     "text": [
      "Group Means:\n",
      "            Predictor  Restricted  Certified  NOT Certified\n",
      "0      ProductQuality    0.299165   0.676816       0.405143\n",
      "1     SpeedofDelivery    0.280288   0.353429       0.286941\n",
      "2  CompetitivePricing    0.686547   0.137791       0.187276\n",
      "3  NumberofComplaints    0.687840   0.137981       0.187574\n",
      "\n"
     ]
    }
   ],
   "source": [
    "# Step 9b:  Explore the Group Means (i.e., the average values for each of the Predictors), grouped by the various classes of the Target  \n",
    "\n",
    "GroupMeans = DataFrame()\n",
    "GroupMeans ['Predictor'] = predictors\n",
    "GroupMeans ['Restricted'] = model.means_.T [:,2]\n",
    "GroupMeans ['Certified'] = model.means_.T [:,1]\n",
    "GroupMeans ['NOT Certified'] = model.means_.T [:,0]\n",
    "GroupMeans.to_csv (\"Vendors (2 Category)_Group Means.csv\")\n",
    "print ('Group Means:')\n",
    "print (GroupMeans)\n",
    "print ('')"
   ]
  },
  {
   "cell_type": "code",
   "execution_count": 133,
   "metadata": {},
   "outputs": [
    {
     "name": "stdout",
     "output_type": "stream",
     "text": [
      "Discriminant Loadings:\n",
      "            Predictor      LD 1      LD 2\n",
      "0      ProductQuality -2.762041 -4.855261\n",
      "1     SpeedofDelivery -1.997834 -9.038609\n",
      "2  CompetitivePricing -0.219073 -0.033687\n",
      "3  NumberofComplaints  6.002272 -2.291676\n",
      "\n"
     ]
    }
   ],
   "source": [
    "# Step 9c:  Explore the (Linear) Discriminant Function, through the Discriminant Loadings against each of the Predictors  \n",
    "\n",
    "DiscriminantLoadings = DataFrame()\n",
    "DiscriminantLoadings ['Predictor'] = predictors\n",
    "DiscriminantLoadings ['LD 1'] = ''\n",
    "DiscriminantLoadings ['LD 1'] = model.scalings_\n",
    "DiscriminantLoadings ['LD 2'] = ''\n",
    "DiscriminantLoadings ['LD 2'] = model.scalings_[:,1]\n",
    "DiscriminantLoadings.to_csv (\"Vendors (2 Cat)_Discriminant Loadings.csv\")\n",
    "print ('Discriminant Loadings:')\n",
    "print (DiscriminantLoadings)\n",
    "print ('')\n"
   ]
  },
  {
   "cell_type": "code",
   "execution_count": 134,
   "metadata": {},
   "outputs": [
    {
     "name": "stdout",
     "output_type": "stream",
     "text": [
      "(Linear) Discriminant Analysis model\n",
      "*******************************************\n",
      "Prior Probabilities of Groups:\n",
      "       Response  Prior Probabilities\n",
      "0  NOTCertified            58.956569\n",
      "1     Certified            11.629983\n",
      "2    Restricted            29.413449\n",
      "\n",
      "Group Means:\n",
      "            Predictor  Restricted  Certified  NOT Certified\n",
      "0      ProductQuality    0.299165   0.676816       0.405143\n",
      "1     SpeedofDelivery    0.280288   0.353429       0.286941\n",
      "2  CompetitivePricing    0.686547   0.137791       0.187276\n",
      "3  NumberofComplaints    0.687840   0.137981       0.187574\n",
      "\n",
      "Discriminant Loadings:\n",
      "            Predictor      LD 1      LD 2\n",
      "0      ProductQuality -2.762041 -4.855261\n",
      "1     SpeedofDelivery -1.997834 -9.038609\n",
      "2  CompetitivePricing -0.219073 -0.033687\n",
      "3  NumberofComplaints  6.002272 -2.291676\n",
      "\n"
     ]
    }
   ],
   "source": [
    "# Step 9d:  Display the various facets of the (Linear) Discriminant Analysis model  \n",
    "\n",
    "print ('(Linear) Discriminant Analysis model')\n",
    "print ('*******************************************')\n",
    "print ('Prior Probabilities of Groups:')\n",
    "print (PriorProbabilities)\n",
    "print ('')\n",
    "print ('Group Means:')\n",
    "print (GroupMeans)\n",
    "print ('')\n",
    "print ('Discriminant Loadings:')\n",
    "print (DiscriminantLoadings)\n",
    "print ('')"
   ]
  },
  {
   "cell_type": "code",
   "execution_count": 135,
   "metadata": {},
   "outputs": [
    {
     "name": "stdout",
     "output_type": "stream",
     "text": [
      "<class 'pandas.core.frame.DataFrame'>\n",
      "RangeIndex: 59381 entries, 0 to 59380\n",
      "Data columns (total 10 columns):\n",
      "ProductQuality         59381 non-null float64\n",
      "SpeedofDelivery        59381 non-null float64\n",
      "CompetitivePricing     59381 non-null float64\n",
      "ComplaintResolution    59381 non-null float64\n",
      "ProductLine            59381 non-null float64\n",
      "NumberofComplaints     59381 non-null float64\n",
      "Response               59381 non-null object\n",
      "ResponseCode           59381 non-null float64\n",
      "DiscScore1             59381 non-null float64\n",
      "DiscScore2             59381 non-null float64\n",
      "dtypes: float64(9), object(1)\n",
      "memory usage: 4.5+ MB\n"
     ]
    }
   ],
   "source": [
    "# Step 10:  Examine the \"discrimination\" effected by the (Linear) Discriminant Analysis model  \n",
    "# Step 10a:  Determine the Discriminant Scores for each of the samples in the data  \n",
    "\n",
    "vendors ['DiscScore1'] = ''\n",
    "vendors ['DiscScore1'] = model.transform (X)\n",
    "vendors ['DiscScore2'] = ''\n",
    "vendors ['DiscScore2'] = model.transform (X)[:,1]\n",
    "vendors.info()"
   ]
  },
  {
   "cell_type": "code",
   "execution_count": 136,
   "metadata": {},
   "outputs": [
    {
     "data": {
      "text/plain": [
       "Text(0.5,1,'1st Discriminant Scores -  by Response')"
      ]
     },
     "execution_count": 136,
     "metadata": {},
     "output_type": "execute_result"
    },
    {
     "data": {
      "image/png": "[encoded data removed]",
      "text/plain": [
       "<Figure size 504x432 with 1 Axes>"
      ]
     },
     "metadata": {
      "needs_background": "light"
     },
     "output_type": "display_data"
    }
   ],
   "source": [
    "# Step 10b:  Visualize the averages of the Discriminant Scores through Box Plots, grouped by the various classes of the Target  \n",
    "\n",
    "fig = plt.figure(figsize=(7,6))\n",
    "ax = fig.add_subplot (1,1,1)\n",
    "vendors.boxplot ('DiscScore1', by='Response', ax=ax)\n",
    "ax.set_xlabel ('Response')\n",
    "ax.set_ylabel ('1st Discriminant Scores')\n",
    "ax.set_title ('1st Discriminant Scores -  by Response', fontsize='16')"
   ]
  },
  {
   "cell_type": "code",
   "execution_count": 137,
   "metadata": {},
   "outputs": [
    {
     "data": {
      "text/plain": [
       "Text(0.5,1,'2nd Discriminant Scores -  by Response')"
      ]
     },
     "execution_count": 137,
     "metadata": {},
     "output_type": "execute_result"
    },
    {
     "data": {
      "image/png": "[encoded data removed]",
      "text/plain": [
       "<Figure size 504x432 with 1 Axes>"
      ]
     },
     "metadata": {
      "needs_background": "light"
     },
     "output_type": "display_data"
    }
   ],
   "source": [
    "fig = plt.figure(figsize=(7,6))\n",
    "ax = fig.add_subplot (1,1,1)\n",
    "vendors.boxplot ('DiscScore2', by='Response', ax=ax)\n",
    "ax.set_xlabel ('Response')\n",
    "ax.set_ylabel ('2nd Discriminant Scores')\n",
    "ax.set_title ('2nd Discriminant Scores -  by Response', fontsize='16')"
   ]
  },
  {
   "cell_type": "code",
   "execution_count": 138,
   "metadata": {},
   "outputs": [
    {
     "data": {
      "text/plain": [
       "<matplotlib.legend.Legend at 0x2162defe4a8>"
      ]
     },
     "execution_count": 138,
     "metadata": {},
     "output_type": "execute_result"
    },
    {
     "data": {
      "image/png": "[encoded data removed]",
      "text/plain": [
       "<Figure size 1440x720 with 3 Axes>"
      ]
     },
     "metadata": {
      "needs_background": "light"
     },
     "output_type": "display_data"
    }
   ],
   "source": [
    "# Step 10c:  Visualize the distribution of Discriminant Scores of the D1 function across the data, through Histograms for the various classes of the Target  \n",
    "\n",
    "fig = plt.figure(figsize=(20,10))\n",
    "fig.subplots_adjust (hspace=0.4)\n",
    "\n",
    "ax = fig.add_subplot (3, 1, 1)\n",
    "ax.hist (np.array (vendors ['DiscScore1'] [vendors ['ResponseCode'] == 1]), bins=50, color='g',  edgecolor ='g',alpha=0.5, label='Certified')\n",
    "ax.set_xlabel ('1st Discriminant Scores')\n",
    "ax.set_ylabel ('Frequency')\n",
    "ax.set_xlim (-7, 7)\n",
    "ax.set_ylim (0, 3000)\n",
    "ax.set_title ('Discriminant Scores distribution(LD1) -  Certified')\n",
    "ax.legend (loc='upper left')\n",
    "\n",
    "ax = fig.add_subplot (3, 1, 2)\n",
    "ax.hist (np.array (vendors ['DiscScore1'] [vendors ['ResponseCode'] == 0]), bins=50, color='b', edgecolor ='b', alpha=0.5, label='NOT Certified')\n",
    "ax.set_xlabel ('1st Discriminant Scores')\n",
    "ax.set_ylabel ('Frequency')\n",
    "ax.set_xlim (-7, 7)\n",
    "ax.set_ylim (0, 3000)\n",
    "ax.set_title ('1st Discriminant Scores distribution(LD1) -  NOT Certified')\n",
    "ax.legend (loc='upper left')\n",
    "\n",
    "ax = fig.add_subplot (3, 1, 3)\n",
    "ax.hist (np.array (vendors ['DiscScore1'] [vendors ['ResponseCode'] == 2]), bins=50, color='r', edgecolor ='r', alpha=0.5, label='Restricted')\n",
    "ax.set_xlabel ('1st Discriminant Scores')\n",
    "ax.set_ylabel ('Frequency')\n",
    "ax.set_xlim (-7, 7)\n",
    "ax.set_ylim (0, 3000)\n",
    "ax.set_title ('Discriminant Scores distribution(LD1) -  Restricted')\n",
    "ax.legend (loc='upper left')"
   ]
  },
  {
   "cell_type": "code",
   "execution_count": 139,
   "metadata": {},
   "outputs": [
    {
     "data": {
      "text/plain": [
       "<matplotlib.legend.Legend at 0x2162f5f0da0>"
      ]
     },
     "execution_count": 139,
     "metadata": {},
     "output_type": "execute_result"
    },
    {
     "data": {
      "image/png": "[encoded data removed]",
      "text/plain": [
       "<Figure size 1440x720 with 3 Axes>"
      ]
     },
     "metadata": {
      "needs_background": "light"
     },
     "output_type": "display_data"
    }
   ],
   "source": [
    "# Step 10d:  Visualize the distribution of Discriminant Scores of the D2 function across the data, through Histograms for the various classes of the Target  \n",
    "\n",
    "fig = plt.figure(figsize=(20,10))\n",
    "fig.subplots_adjust (hspace=0.4)\n",
    "\n",
    "ax = fig.add_subplot (3, 1, 1)\n",
    "ax.hist (np.array (vendors ['DiscScore2'] [vendors ['ResponseCode'] == 1]), bins=50, color='g',  edgecolor ='g',alpha=0.5, label='Certified')\n",
    "ax.set_xlabel ('2nd Discriminant Scores')\n",
    "ax.set_ylabel ('Frequency')\n",
    "ax.set_xlim (-7, 7)\n",
    "ax.set_ylim (0, 3000)\n",
    "ax.set_title ('Discriminant Scores distribution(LD2) -  Certified')\n",
    "ax.legend (loc='upper left')\n",
    "\n",
    "ax = fig.add_subplot (3, 1, 2)\n",
    "ax.hist (np.array (vendors ['DiscScore2'] [vendors ['ResponseCode'] == 0]), bins=50, color='b', edgecolor ='b', alpha=0.5, label='NOT Certified')\n",
    "ax.set_xlabel ('2nd Discriminant Scores')\n",
    "ax.set_ylabel ('Frequency')\n",
    "ax.set_xlim (-7, 7)\n",
    "ax.set_ylim (0, 3000)\n",
    "ax.set_title ('Discriminant Scores distribution(LD2) -  NOT Certified')\n",
    "ax.legend (loc='upper left')\n",
    "\n",
    "ax = fig.add_subplot (3, 1, 3)\n",
    "ax.hist (np.array (vendors ['DiscScore2'] [vendors ['ResponseCode'] == 2]), bins=50, color='r', edgecolor ='r', alpha=0.5, label='Restricted')\n",
    "ax.set_xlabel ('2nd Discriminant Scores')\n",
    "ax.set_ylabel ('Frequency')\n",
    "ax.set_xlim (-7, 7)\n",
    "ax.set_ylim (0, 3000)\n",
    "ax.set_title ('2nd Discriminant Scores distribution(LD2) -  Restricted')\n",
    "ax.legend (loc='upper left')"
   ]
  },
  {
   "cell_type": "code",
   "execution_count": null,
   "metadata": {},
   "outputs": [],
   "source": []
  },
  {
   "cell_type": "code",
   "execution_count": 140,
   "metadata": {},
   "outputs": [],
   "source": [
    "# Step 11:  Apply the (Linear) Discriminant Analysis model to segregate the data into different groups, based on the Discriminant Score  \n",
    "# Step 11a:  Determine the \"optimal\" cut-off values of the 1st and 2nd Discriminant Scores  \n",
    "\n",
    "zC1 = vendors ['DiscScore1'] [vendors ['ResponseCode'] == 1].mean()\n",
    "zNC1 = vendors ['DiscScore1'] [vendors ['ResponseCode'] == 0].mean()\n",
    "zR1 = vendors ['DiscScore1'] [vendors ['ResponseCode'] == 2].mean()\n",
    "nC1 = vendors ['DiscScore1'] [vendors ['ResponseCode'] == 1].count()\n",
    "nNC1 = vendors ['DiscScore1'] [vendors ['ResponseCode'] == 0].count()\n",
    "nR1 = vendors ['DiscScore1'] [vendors ['ResponseCode'] == 2].count()\n",
    "zcutoff1 = (zNC1*nC1 + zC1*nNC1 + zNC1*nR1 + zR1*nNC1 + zR1*nC1 + zC1*nR1) / (nNC1 + nC1 + nR1)\n",
    "\n",
    "zC2 = vendors ['DiscScore2'] [vendors ['ResponseCode'] == 1].mean()\n",
    "zNC2 = vendors ['DiscScore2'] [vendors ['ResponseCode'] == 0].mean()\n",
    "zR2 = vendors ['DiscScore2'] [vendors ['ResponseCode'] == 2].mean()\n",
    "nC2 = vendors ['DiscScore2'] [vendors ['ResponseCode'] == 1].count()\n",
    "nNC2 = vendors ['DiscScore2'] [vendors ['ResponseCode'] == 0].count()\n",
    "nR2 = vendors ['DiscScore2'] [vendors ['ResponseCode'] == 2].count()\n",
    "zcutoff2 = (zNC2*nC2 + zC2*nNC2 + zNC2*nR2 + zR2*nNC2 + zR2*nC2 + zC2*nR2) / (nNC2 + nC2 + nR2)"
   ]
  },
  {
   "cell_type": "code",
   "execution_count": 141,
   "metadata": {},
   "outputs": [
    {
     "name": "stdout",
     "output_type": "stream",
     "text": [
      "Avg. Discriminant Score 1 -  Certified: -1.975003113121072\n",
      "Avg. Discriminant Score 1 -  NOTCertified: -0.8049669714136262\n",
      "Avg. Discriminant Score 1 -  Restricted: 2.394392545599847\n",
      "Number of observations 1 -  Certified: 6906\n",
      "Number of observations 1 -  NOTCertified: 35009\n",
      "Number of observations 1 -  Restricted: 17466\n",
      "Discriminant Score cut-off1: -0.385577538935073\n",
      "\n",
      "Avg. Discriminant Score 2 -  Certified: -1.421676213894524\n",
      "Avg. Discriminant Score 2 -  NOTCertified: 0.38300627847616153\n",
      "Avg. Discriminant Score 2 -  Restricted: -0.2055748809138464\n",
      "Number of observations 2 -  Certified: 6906\n",
      "Number of observations 2 -  NOTCertified: 35009\n",
      "Number of observations 2 -  Restricted: 17466\n",
      "Discriminant Score cut-off2: -1.2442448163317898\n",
      "\n"
     ]
    }
   ],
   "source": [
    "# Step 11b:  Display the 2 \"optimal\" cut-off values for the 1st & 2nd Discriminant Scores  \n",
    "\n",
    "print ('Avg. Discriminant Score 1 -  Certified:', zC1)\n",
    "print ('Avg. Discriminant Score 1 -  NOTCertified:', zNC1)\n",
    "print ('Avg. Discriminant Score 1 -  Restricted:', zR1)\n",
    "print ('Number of observations 1 -  Certified:', nC1)\n",
    "print ('Number of observations 1 -  NOTCertified:', nNC1)\n",
    "print ('Number of observations 1 -  Restricted:', nR1)\n",
    "print ('Discriminant Score cut-off1:', zcutoff1)\n",
    "print ('')\n",
    "\n",
    "print ('Avg. Discriminant Score 2 -  Certified:', zC2)\n",
    "print ('Avg. Discriminant Score 2 -  NOTCertified:', zNC2)\n",
    "print ('Avg. Discriminant Score 2 -  Restricted:', zR2)\n",
    "print ('Number of observations 2 -  Certified:', nC2)\n",
    "print ('Number of observations 2 -  NOTCertified:', nNC2)\n",
    "print ('Number of observations 2 -  Restricted:', nR2)\n",
    "print ('Discriminant Score cut-off2:', zcutoff2)\n",
    "print ('')"
   ]
  },
  {
   "cell_type": "code",
   "execution_count": 142,
   "metadata": {},
   "outputs": [
    {
     "name": "stdout",
     "output_type": "stream",
     "text": [
      "<class 'pandas.core.frame.DataFrame'>\n",
      "RangeIndex: 59381 entries, 0 to 59380\n",
      "Data columns (total 11 columns):\n",
      "ProductQuality         59381 non-null float64\n",
      "SpeedofDelivery        59381 non-null float64\n",
      "CompetitivePricing     59381 non-null float64\n",
      "ComplaintResolution    59381 non-null float64\n",
      "ProductLine            59381 non-null float64\n",
      "NumberofComplaints     59381 non-null float64\n",
      "Response               59381 non-null object\n",
      "ResponseCode           59381 non-null float64\n",
      "DiscScore1             59381 non-null float64\n",
      "DiscScore2             59381 non-null float64\n",
      "PredResponseCode       59381 non-null float64\n",
      "dtypes: float64(10), object(1)\n",
      "memory usage: 5.0+ MB\n"
     ]
    }
   ],
   "source": [
    "# Step 11c:  Assign each sample in the data into one or the other class of the Target, based on the Discriminant Score  \n",
    "\n",
    "vendors ['PredResponseCode'] = ''\n",
    "vendors ['PredResponseCode'] = model.predict (X)\n",
    "vendors.info()"
   ]
  },
  {
   "cell_type": "code",
   "execution_count": 143,
   "metadata": {},
   "outputs": [
    {
     "data": {
      "text/plain": [
       "array([[34397,  1954,  2332],\n",
       "       [  611,  4863,     0],\n",
       "       [    1,    89, 15134]], dtype=int64)"
      ]
     },
     "execution_count": 143,
     "metadata": {},
     "output_type": "execute_result"
    }
   ],
   "source": [
    "#12: Importing libraries to create the confusion matrix and compute the accuracy of our model\n",
    "#12a: Creating confusion matrix \n",
    "from sklearn.metrics import confusion_matrix \n",
    "from sklearn.metrics import classification_report\n",
    "from sklearn.metrics import accuracy_score\n",
    "\n",
    "confusion_matrix(vendors['PredResponseCode'] , vendors['ResponseCode'] )"
   ]
  },
  {
   "cell_type": "code",
   "execution_count": 144,
   "metadata": {},
   "outputs": [
    {
     "name": "stdout",
     "output_type": "stream",
     "text": [
      "             precision    recall  f1-score   support\n",
      "\n",
      "        0.0       0.98      0.89      0.93     38683\n",
      "        1.0       0.70      0.89      0.79      5474\n",
      "        2.0       0.87      0.99      0.93     15224\n",
      "\n",
      "avg / total       0.93      0.92      0.92     59381\n",
      "\n",
      "Accuracy: 0.91601690776511\n"
     ]
    }
   ],
   "source": [
    "#12b: Printing out the classification report and the Accuracy of the model\n",
    "print(classification_report(vendors['PredResponseCode'] , vendors['ResponseCode']))\n",
    "print('Accuracy:', accuracy_score(vendors['PredResponseCode'] , vendors['ResponseCode']))"
   ]
  },
  {
   "cell_type": "markdown",
   "metadata": {
    "collapsed": true
   },
   "source": [
    "So we see that the accuracy of our prediction model is __91.6%__"
   ]
  },
  {
   "cell_type": "code",
   "execution_count": 41,
   "metadata": {},
   "outputs": [],
   "source": []
  },
  {
   "cell_type": "code",
   "execution_count": 43,
   "metadata": {
    "collapsed": true
   },
   "outputs": [
    {
     "data": {
      "text/plain": [
       "KMeans(algorithm='auto', copy_x=True, init='k-means++', max_iter=300,\n",
       "    n_clusters=3, n_init=10, n_jobs=1, precompute_distances='auto',\n",
       "    random_state=5, tol=0.0001, verbose=0)"
      ]
     },
     "execution_count": 43,
     "metadata": {},
     "output_type": "execute_result"
    }
   ],
   "source": []
  },
  {
   "cell_type": "code",
   "execution_count": 146,
   "metadata": {
    "collapsed": true
   },
   "outputs": [
    {
     "data": {
      "text/html": [
       "<div>\n",
       "<style scoped>\n",
       "    .dataframe tbody tr th:only-of-type {\n",
       "        vertical-align: middle;\n",
       "    }\n",
       "\n",
       "    .dataframe tbody tr th {\n",
       "        vertical-align: top;\n",
       "    }\n",
       "\n",
       "    .dataframe thead th {\n",
       "        text-align: right;\n",
       "    }\n",
       "</style>\n",
       "<table border=\"1\" class=\"dataframe\">\n",
       "  <thead>\n",
       "    <tr style=\"text-align: right;\">\n",
       "      <th></th>\n",
       "      <th>ProductQuality</th>\n",
       "      <th>SpeedofDelivery</th>\n",
       "      <th>CompetitivePricing</th>\n",
       "      <th>ComplaintResolution</th>\n",
       "      <th>ProductLine</th>\n",
       "      <th>NumberofComplaints</th>\n",
       "      <th>Response</th>\n",
       "      <th>ResponseCode</th>\n",
       "      <th>DiscScore1</th>\n",
       "      <th>DiscScore2</th>\n",
       "      <th>PredResponseCode</th>\n",
       "    </tr>\n",
       "  </thead>\n",
       "  <tbody>\n",
       "    <tr>\n",
       "      <th>0</th>\n",
       "      <td>0.641791</td>\n",
       "      <td>0.418182</td>\n",
       "      <td>0.028</td>\n",
       "      <td>0.598039</td>\n",
       "      <td>0.323008</td>\n",
       "      <td>0.076923</td>\n",
       "      <td>Certified</td>\n",
       "      <td>1.0</td>\n",
       "      <td>-2.350062</td>\n",
       "      <td>-1.693273</td>\n",
       "      <td>1.0</td>\n",
       "    </tr>\n",
       "    <tr>\n",
       "      <th>1</th>\n",
       "      <td>0.059701</td>\n",
       "      <td>0.400000</td>\n",
       "      <td>0.000</td>\n",
       "      <td>0.188406</td>\n",
       "      <td>0.272288</td>\n",
       "      <td>0.076923</td>\n",
       "      <td>NOTCertified</td>\n",
       "      <td>0.0</td>\n",
       "      <td>-0.699848</td>\n",
       "      <td>1.298206</td>\n",
       "      <td>0.0</td>\n",
       "    </tr>\n",
       "    <tr>\n",
       "      <th>2</th>\n",
       "      <td>0.029851</td>\n",
       "      <td>0.254545</td>\n",
       "      <td>0.030</td>\n",
       "      <td>0.304348</td>\n",
       "      <td>0.428780</td>\n",
       "      <td>0.076923</td>\n",
       "      <td>NOTCertified</td>\n",
       "      <td>0.0</td>\n",
       "      <td>-0.333377</td>\n",
       "      <td>2.756835</td>\n",
       "      <td>0.0</td>\n",
       "    </tr>\n",
       "    <tr>\n",
       "      <th>3</th>\n",
       "      <td>0.164179</td>\n",
       "      <td>0.327273</td>\n",
       "      <td>0.042</td>\n",
       "      <td>0.420290</td>\n",
       "      <td>0.352438</td>\n",
       "      <td>0.487179</td>\n",
       "      <td>Restricted</td>\n",
       "      <td>2.0</td>\n",
       "      <td>1.610147</td>\n",
       "      <td>0.506703</td>\n",
       "      <td>2.0</td>\n",
       "    </tr>\n",
       "    <tr>\n",
       "      <th>4</th>\n",
       "      <td>0.417910</td>\n",
       "      <td>0.345455</td>\n",
       "      <td>0.027</td>\n",
       "      <td>0.463768</td>\n",
       "      <td>0.424046</td>\n",
       "      <td>0.230769</td>\n",
       "      <td>NOTCertified</td>\n",
       "      <td>0.0</td>\n",
       "      <td>-0.662752</td>\n",
       "      <td>-0.301453</td>\n",
       "      <td>0.0</td>\n",
       "    </tr>\n",
       "  </tbody>\n",
       "</table>\n",
       "</div>"
      ],
      "text/plain": [
       "   ProductQuality  SpeedofDelivery  CompetitivePricing  ComplaintResolution  \\\n",
       "0        0.641791         0.418182               0.028             0.598039   \n",
       "1        0.059701         0.400000               0.000             0.188406   \n",
       "2        0.029851         0.254545               0.030             0.304348   \n",
       "3        0.164179         0.327273               0.042             0.420290   \n",
       "4        0.417910         0.345455               0.027             0.463768   \n",
       "\n",
       "   ProductLine  NumberofComplaints      Response  ResponseCode  DiscScore1  \\\n",
       "0     0.323008            0.076923     Certified           1.0   -2.350062   \n",
       "1     0.272288            0.076923  NOTCertified           0.0   -0.699848   \n",
       "2     0.428780            0.076923  NOTCertified           0.0   -0.333377   \n",
       "3     0.352438            0.487179    Restricted           2.0    1.610147   \n",
       "4     0.424046            0.230769  NOTCertified           0.0   -0.662752   \n",
       "\n",
       "   DiscScore2  PredResponseCode  \n",
       "0   -1.693273               1.0  \n",
       "1    1.298206               0.0  \n",
       "2    2.756835               0.0  \n",
       "3    0.506703               2.0  \n",
       "4   -0.301453               0.0  "
      ]
     },
     "execution_count": 146,
     "metadata": {},
     "output_type": "execute_result"
    }
   ],
   "source": []
  },
  {
   "cell_type": "code",
   "execution_count": 42,
   "metadata": {
    "collapsed": true
   },
   "outputs": [
    {
     "data": {
      "text/plain": [
       "array([[0.64179104, 0.41818182, 0.028     , 0.07692308],\n",
       "       [0.05970149, 0.4       , 0.        , 0.07692308],\n",
       "       [0.02985075, 0.25454545, 0.03      , 0.07692308],\n",
       "       ...,\n",
       "       [0.10447761, 0.25454545, 0.07692308, 0.07692308],\n",
       "       [0.50746269, 0.30909091, 0.23076923, 0.23076923],\n",
       "       [0.44776119, 0.21818182, 0.07692308, 0.07692308]])"
      ]
     },
     "execution_count": 42,
     "metadata": {},
     "output_type": "execute_result"
    }
   ],
   "source": []
  },
  {
   "cell_type": "code",
   "execution_count": 44,
   "metadata": {
    "collapsed": true
   },
   "outputs": [
    {
     "data": {
      "text/plain": [
       "KMeans(algorithm='auto', copy_x=True, init='k-means++', max_iter=300,\n",
       "    n_clusters=3, n_init=10, n_jobs=1, precompute_distances='auto',\n",
       "    random_state=5, tol=0.0001, verbose=0)"
      ]
     },
     "execution_count": 44,
     "metadata": {},
     "output_type": "execute_result"
    }
   ],
   "source": []
  },
  {
   "cell_type": "code",
   "execution_count": null,
   "metadata": {},
   "outputs": [],
   "source": []
  },
  {
   "cell_type": "code",
   "execution_count": null,
   "metadata": {},
   "outputs": [],
   "source": []
  },
  {
   "cell_type": "code",
   "execution_count": null,
   "metadata": {},
   "outputs": [],
   "source": []
  },
  {
   "cell_type": "code",
   "execution_count": 40,
   "metadata": {
    "collapsed": true
   },
   "outputs": [
    {
     "ename": "TypeError",
     "evalue": "'LinearDiscriminantAnalysis' object is not subscriptable",
     "output_type": "error",
     "traceback": [
      "\u001b[1;31m---------------------------------------------------------------------------\u001b[0m",
      "\u001b[1;31mTypeError\u001b[0m                                 Traceback (most recent call last)",
      "\u001b[1;32m<ipython-input-40-a3083bb65e2f>\u001b[0m in \u001b[0;36m<module>\u001b[1;34m()\u001b[0m\n\u001b[1;32m----> 1\u001b[1;33m \u001b[0mmodel\u001b[0m\u001b[1;33m[\u001b[0m\u001b[1;33m:\u001b[0m\u001b[1;36m1\u001b[0m\u001b[1;33m]\u001b[0m\u001b[1;33m\u001b[0m\u001b[0m\n\u001b[0m",
      "\u001b[1;31mTypeError\u001b[0m: 'LinearDiscriminantAnalysis' object is not subscriptable"
     ]
    }
   ],
   "source": []
  },
  {
   "cell_type": "code",
   "execution_count": 103,
   "metadata": {
    "collapsed": true
   },
   "outputs": [
    {
     "data": {
      "text/html": [
       "<div>\n",
       "<style scoped>\n",
       "    .dataframe tbody tr th:only-of-type {\n",
       "        vertical-align: middle;\n",
       "    }\n",
       "\n",
       "    .dataframe tbody tr th {\n",
       "        vertical-align: top;\n",
       "    }\n",
       "\n",
       "    .dataframe thead th {\n",
       "        text-align: right;\n",
       "    }\n",
       "</style>\n",
       "<table border=\"1\" class=\"dataframe\">\n",
       "  <thead>\n",
       "    <tr style=\"text-align: right;\">\n",
       "      <th></th>\n",
       "      <th>ProductQuality</th>\n",
       "      <th>SpeedofDelivery</th>\n",
       "      <th>CompetitivePricing</th>\n",
       "      <th>ComplaintResolution</th>\n",
       "      <th>ProductLine</th>\n",
       "      <th>NumberofComplaints</th>\n",
       "      <th>Response</th>\n",
       "      <th>ResponseCode</th>\n",
       "      <th>DiscScore</th>\n",
       "      <th>PredResponseCode</th>\n",
       "      <th>DiscScore1</th>\n",
       "      <th>DiscScore2</th>\n",
       "    </tr>\n",
       "  </thead>\n",
       "  <tbody>\n",
       "    <tr>\n",
       "      <th>0</th>\n",
       "      <td>0.641791</td>\n",
       "      <td>0.418182</td>\n",
       "      <td>0.028</td>\n",
       "      <td>0.598039</td>\n",
       "      <td>0.323008</td>\n",
       "      <td>0.076923</td>\n",
       "      <td>Certified</td>\n",
       "      <td>1.0</td>\n",
       "      <td>-2.350062</td>\n",
       "      <td>1.0</td>\n",
       "      <td>-2.350062</td>\n",
       "      <td>-1.693273</td>\n",
       "    </tr>\n",
       "    <tr>\n",
       "      <th>1</th>\n",
       "      <td>0.059701</td>\n",
       "      <td>0.400000</td>\n",
       "      <td>0.000</td>\n",
       "      <td>0.188406</td>\n",
       "      <td>0.272288</td>\n",
       "      <td>0.076923</td>\n",
       "      <td>NOTCertified</td>\n",
       "      <td>0.0</td>\n",
       "      <td>-0.699848</td>\n",
       "      <td>0.0</td>\n",
       "      <td>-0.699848</td>\n",
       "      <td>1.298206</td>\n",
       "    </tr>\n",
       "    <tr>\n",
       "      <th>2</th>\n",
       "      <td>0.029851</td>\n",
       "      <td>0.254545</td>\n",
       "      <td>0.030</td>\n",
       "      <td>0.304348</td>\n",
       "      <td>0.428780</td>\n",
       "      <td>0.076923</td>\n",
       "      <td>NOTCertified</td>\n",
       "      <td>0.0</td>\n",
       "      <td>-0.333377</td>\n",
       "      <td>0.0</td>\n",
       "      <td>-0.333377</td>\n",
       "      <td>2.756835</td>\n",
       "    </tr>\n",
       "    <tr>\n",
       "      <th>3</th>\n",
       "      <td>0.164179</td>\n",
       "      <td>0.327273</td>\n",
       "      <td>0.042</td>\n",
       "      <td>0.420290</td>\n",
       "      <td>0.352438</td>\n",
       "      <td>0.487179</td>\n",
       "      <td>Restricted</td>\n",
       "      <td>2.0</td>\n",
       "      <td>1.610147</td>\n",
       "      <td>2.0</td>\n",
       "      <td>1.610147</td>\n",
       "      <td>0.506703</td>\n",
       "    </tr>\n",
       "    <tr>\n",
       "      <th>4</th>\n",
       "      <td>0.417910</td>\n",
       "      <td>0.345455</td>\n",
       "      <td>0.027</td>\n",
       "      <td>0.463768</td>\n",
       "      <td>0.424046</td>\n",
       "      <td>0.230769</td>\n",
       "      <td>NOTCertified</td>\n",
       "      <td>0.0</td>\n",
       "      <td>-0.662752</td>\n",
       "      <td>0.0</td>\n",
       "      <td>-0.662752</td>\n",
       "      <td>-0.301453</td>\n",
       "    </tr>\n",
       "  </tbody>\n",
       "</table>\n",
       "</div>"
      ],
      "text/plain": [
       "   ProductQuality  SpeedofDelivery  CompetitivePricing  ComplaintResolution  \\\n",
       "0        0.641791         0.418182               0.028             0.598039   \n",
       "1        0.059701         0.400000               0.000             0.188406   \n",
       "2        0.029851         0.254545               0.030             0.304348   \n",
       "3        0.164179         0.327273               0.042             0.420290   \n",
       "4        0.417910         0.345455               0.027             0.463768   \n",
       "\n",
       "   ProductLine  NumberofComplaints      Response  ResponseCode  DiscScore  \\\n",
       "0     0.323008            0.076923     Certified           1.0  -2.350062   \n",
       "1     0.272288            0.076923  NOTCertified           0.0  -0.699848   \n",
       "2     0.428780            0.076923  NOTCertified           0.0  -0.333377   \n",
       "3     0.352438            0.487179    Restricted           2.0   1.610147   \n",
       "4     0.424046            0.230769  NOTCertified           0.0  -0.662752   \n",
       "\n",
       "   PredResponseCode  DiscScore1  DiscScore2  \n",
       "0               1.0   -2.350062   -1.693273  \n",
       "1               0.0   -0.699848    1.298206  \n",
       "2               0.0   -0.333377    2.756835  \n",
       "3               2.0    1.610147    0.506703  \n",
       "4               0.0   -0.662752   -0.301453  "
      ]
     },
     "execution_count": 103,
     "metadata": {},
     "output_type": "execute_result"
    }
   ],
   "source": []
  },
  {
   "cell_type": "code",
   "execution_count": null,
   "metadata": {},
   "outputs": [],
   "source": []
  },
  {
   "cell_type": "code",
   "execution_count": null,
   "metadata": {},
   "outputs": [],
   "source": []
  },
  {
   "cell_type": "code",
   "execution_count": null,
   "metadata": {},
   "outputs": [],
   "source": []
  },
  {
   "cell_type": "code",
   "execution_count": null,
   "metadata": {},
   "outputs": [],
   "source": []
  },
  {
   "cell_type": "code",
   "execution_count": null,
   "metadata": {},
   "outputs": [],
   "source": []
  }
 ],
 "metadata": {
  "kernelspec": {
   "display_name": "Python 3",
   "language": "python",
   "name": "python3"
  },
  "language_info": {
   "codemirror_mode": {
    "name": "ipython",
    "version": 3
   },
   "file_extension": ".py",
   "mimetype": "text/x-python",
   "name": "python",
   "nbconvert_exporter": "python",
   "pygments_lexer": "ipython3",
   "version": "3.7.0"
  }
 },
 "nbformat": 4,
 "nbformat_minor": 2
}
