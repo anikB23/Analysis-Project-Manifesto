{
 "cells": [
  {
   "cell_type": "code",
   "execution_count": 42,
   "metadata": {},
   "outputs": [],
   "source": [
    "# Supress Warnings\n",
    "import warnings\n",
    "warnings.filterwarnings('ignore')"
   ]
  },
  {
   "cell_type": "markdown",
   "metadata": {},
   "source": [
    "# Import libraries"
   ]
  },
  {
   "cell_type": "code",
   "execution_count": 43,
   "metadata": {},
   "outputs": [],
   "source": [
    "import numpy as np\n",
    "import pandas as pd\n",
    "import matplotlib.pyplot as plt"
   ]
  },
  {
   "cell_type": "markdown",
   "metadata": {},
   "source": [
    "# Read Datasets"
   ]
  },
  {
   "cell_type": "code",
   "execution_count": 44,
   "metadata": {
    "scrolled": false
   },
   "outputs": [],
   "source": [
    "#read input files\n",
    "companies = pd.read_csv(\"C:/Users/Rabi/Documents/Data_Science/upgrad/investment_case_study/companies.txt\",\n",
    "                          sep = \"\\t\", encoding = 'unicode_escape' )\n",
    "rounds2 = pd.read_csv(\"C:/Users/Rabi/Documents/Data_Science/upgrad/investment_case_study/rounds2.csv\", encoding = 'unicode_escape')\n"
   ]
  },
  {
   "cell_type": "markdown",
   "metadata": {},
   "source": [
    "# Inspect and Pre-process dataset rounds2"
   ]
  },
  {
   "cell_type": "code",
   "execution_count": 45,
   "metadata": {},
   "outputs": [
    {
     "name": "stdout",
     "output_type": "stream",
     "text": [
      "(114949, 6)\n"
     ]
    }
   ],
   "source": [
    "#inspect companies file\n",
    "print(rounds2.shape)"
   ]
  },
  {
   "cell_type": "code",
   "execution_count": 46,
   "metadata": {},
   "outputs": [
    {
     "name": "stdout",
     "output_type": "stream",
     "text": [
      "<class 'pandas.core.frame.DataFrame'>\n",
      "RangeIndex: 114949 entries, 0 to 114948\n",
      "Data columns (total 6 columns):\n",
      "company_permalink          114949 non-null object\n",
      "funding_round_permalink    114949 non-null object\n",
      "funding_round_type         114949 non-null object\n",
      "funding_round_code         31140 non-null object\n",
      "funded_at                  114949 non-null object\n",
      "raised_amount_usd          94959 non-null float64\n",
      "dtypes: float64(1), object(5)\n",
      "memory usage: 5.3+ MB\n",
      "None\n"
     ]
    }
   ],
   "source": [
    "print(rounds2.info())"
   ]
  },
  {
   "cell_type": "code",
   "execution_count": 47,
   "metadata": {},
   "outputs": [
    {
     "name": "stdout",
     "output_type": "stream",
     "text": [
      "       raised_amount_usd\n",
      "count       9.495900e+04\n",
      "mean        1.042687e+07\n",
      "std         1.148212e+08\n",
      "min         0.000000e+00\n",
      "25%         3.225000e+05\n",
      "50%         1.680511e+06\n",
      "75%         7.000000e+06\n",
      "max         2.127194e+10\n"
     ]
    }
   ],
   "source": [
    "print(rounds2.describe())"
   ]
  },
  {
   "cell_type": "code",
   "execution_count": 48,
   "metadata": {},
   "outputs": [
    {
     "name": "stdout",
     "output_type": "stream",
     "text": [
      "                     company_permalink  \\\n",
      "0                  /organization/-fame   \n",
      "1               /ORGANIZATION/-QOUNTER   \n",
      "2               /organization/-qounter   \n",
      "3  /ORGANIZATION/-THE-ONE-OF-THEM-INC-   \n",
      "4                /organization/0-6-com   \n",
      "\n",
      "                           funding_round_permalink funding_round_type  \\\n",
      "0  /funding-round/9a01d05418af9f794eebff7ace91f638            venture   \n",
      "1  /funding-round/22dacff496eb7acb2b901dec1dfe5633            venture   \n",
      "2  /funding-round/b44fbb94153f6cdef13083530bb48030               seed   \n",
      "3  /funding-round/650b8f704416801069bb178a1418776b            venture   \n",
      "4  /funding-round/5727accaeaa57461bd22a9bdd945382d            venture   \n",
      "\n",
      "  funding_round_code   funded_at  raised_amount_usd  \n",
      "0                  B  05-01-2015         10000000.0  \n",
      "1                  A  14-10-2014                NaN  \n",
      "2                NaN  01-03-2014           700000.0  \n",
      "3                  B  30-01-2014          3406878.0  \n",
      "4                  A  19-03-2008          2000000.0  \n"
     ]
    }
   ],
   "source": [
    "print(rounds2.head(5))"
   ]
  },
  {
   "cell_type": "code",
   "execution_count": 49,
   "metadata": {},
   "outputs": [
    {
     "data": {
      "text/plain": [
       "0    10.000000\n",
       "1          NaN\n",
       "2     0.700000\n",
       "3     3.406878\n",
       "4     2.000000\n",
       "5          NaN\n",
       "6     0.041250\n",
       "7     0.043360\n",
       "8     0.719491\n",
       "9     3.000000\n",
       "Name: raised_amount_usd, dtype: float64"
      ]
     },
     "execution_count": 49,
     "metadata": {},
     "output_type": "execute_result"
    }
   ],
   "source": [
    "#standardise the raise_amount_usd to millions by dividing it by 10^6\n",
    "rounds2.raised_amount_usd = rounds2.raised_amount_usd/(10 ** 6)\n",
    "rounds2.raised_amount_usd.head(10)"
   ]
  },
  {
   "cell_type": "code",
   "execution_count": 50,
   "metadata": {},
   "outputs": [
    {
     "name": "stdout",
     "output_type": "stream",
     "text": [
      "0.17\n",
      "count    94959.000000\n",
      "mean        10.426869\n",
      "std        114.821248\n",
      "min          0.000000\n",
      "25%          0.322500\n",
      "50%          1.680511\n",
      "75%          7.000000\n",
      "max      21271.935000\n",
      "Name: raised_amount_usd, dtype: float64\n",
      "1.680511\n",
      "10.426869334502733\n"
     ]
    }
   ],
   "source": [
    "print(round(rounds2.raised_amount_usd.isnull().sum()/len(rounds2), 2))\n",
    "#rounds2.raised_amount_usd.loc[~rounds2.raised_amount_usd.isnull()]\n",
    "print(rounds2.raised_amount_usd.describe())\n",
    "print(rounds2.raised_amount_usd.median())\n",
    "print(rounds2.raised_amount_usd.mean())\n",
    "#the data is not normal and higly skewed towards left hence we should not use mean value for imputation\n"
   ]
  },
  {
   "cell_type": "code",
   "execution_count": 51,
   "metadata": {},
   "outputs": [
    {
     "name": "stdout",
     "output_type": "stream",
     "text": [
      "company_permalink           90247\n",
      "funding_round_permalink    114949\n",
      "funding_round_type             14\n",
      "funding_round_code              9\n",
      "funded_at                    5033\n",
      "raised_amount_usd           22096\n",
      "dtype: int64\n",
      "0    venture\n",
      "1    venture\n",
      "2       seed\n",
      "3    venture\n",
      "4    venture\n",
      "Name: funding_round_type, dtype: category\n",
      "Categories (14, object): [angel, convertible_note, debt_financing, equity_crowdfunding, ..., secondary_market, seed, undisclosed, venture]\n",
      "0      B\n",
      "1      A\n",
      "2    NaN\n",
      "3      B\n",
      "4      A\n",
      "Name: funding_round_code, dtype: category\n",
      "Categories (8, object): [A, B, C, D, E, F, G, H]\n",
      "0    05-01-2015\n",
      "1    14-10-2014\n",
      "2    01-03-2014\n",
      "3    30-01-2014\n",
      "4    19-03-2008\n",
      "Name: funded_at, dtype: object\n",
      "0   2015-01-05\n",
      "1   2014-10-14\n",
      "2   2014-03-01\n",
      "3   2014-01-30\n",
      "4   2008-03-19\n",
      "Name: funded_at, dtype: datetime64[ns]\n"
     ]
    }
   ],
   "source": [
    "#missing values of funding round code can be ignored as it does not add any value to our analysis\n",
    "#find candidates for converting to categorical variables\n",
    "print(rounds2.apply(lambda x: len(x.unique())))\n",
    "#converting characters variable which are categorical\n",
    "rounds2.funding_round_type = pd.Categorical(rounds2.funding_round_type)\n",
    "print(rounds2.funding_round_type.head(5))\n",
    "rounds2.funding_round_code = pd.Categorical(rounds2.funding_round_code)\n",
    "print(rounds2.funding_round_code.head(5))\n",
    "\n",
    "#converting funded_at to date variable which is presnelty in dd-mm-yyyy character format\n",
    "print(rounds2.funded_at.head(5))\n",
    "rounds2.funded_at = pd.to_datetime(rounds2.funded_at, format = '%d-%m-%Y')\n",
    "print(rounds2.funded_at.head(5))\n",
    "\n",
    "\n",
    "\n"
   ]
  },
  {
   "cell_type": "code",
   "execution_count": 52,
   "metadata": {},
   "outputs": [
    {
     "name": "stdout",
     "output_type": "stream",
     "text": [
      "66370\n",
      "66368\n"
     ]
    }
   ],
   "source": [
    "# the company peralink has data in both upper and lower case. \n",
    "#this may cause each of the multiple entries of same data value to be treated distinctly.\n",
    "#lets say GOOD, Good and good all will be tretaed distictly.\n",
    "#We want all thee to be treated the asme as good\n",
    "#converting this all to lower case to bring uniformity. we also observe some accensted character strings\n",
    "# we fix this. The code used to fix this is attributed to\n",
    "#https://stackoverflow.com/questions/45871731/removing-special-characters-in-a-pandas-dataframe\n",
    "print(len(rounds2.company_permalink.str.lower().unique()))\n",
    "rounds2.company_permalink = rounds2.company_permalink.str.lower()\n",
    "rounds2.company_permalink = rounds2.company_permalink.str.encode('utf-8').str.decode('ascii', 'ignore')\n",
    "print(len(rounds2.company_permalink.unique()))"
   ]
  },
  {
   "cell_type": "markdown",
   "metadata": {},
   "source": [
    "# Inspect and Pre-Process datase companies"
   ]
  },
  {
   "cell_type": "code",
   "execution_count": 53,
   "metadata": {},
   "outputs": [
    {
     "name": "stdout",
     "output_type": "stream",
     "text": [
      "(66368, 10)\n"
     ]
    }
   ],
   "source": [
    "print(companies.shape)"
   ]
  },
  {
   "cell_type": "code",
   "execution_count": 54,
   "metadata": {},
   "outputs": [
    {
     "name": "stdout",
     "output_type": "stream",
     "text": [
      "<class 'pandas.core.frame.DataFrame'>\n",
      "RangeIndex: 66368 entries, 0 to 66367\n",
      "Data columns (total 10 columns):\n",
      "permalink        66368 non-null object\n",
      "name             66367 non-null object\n",
      "homepage_url     61310 non-null object\n",
      "category_list    63220 non-null object\n",
      "status           66368 non-null object\n",
      "country_code     59410 non-null object\n",
      "state_code       57821 non-null object\n",
      "region           58338 non-null object\n",
      "city             58340 non-null object\n",
      "founded_at       51147 non-null object\n",
      "dtypes: object(10)\n",
      "memory usage: 5.1+ MB\n",
      "None\n"
     ]
    }
   ],
   "source": [
    "print(companies.info())"
   ]
  },
  {
   "cell_type": "code",
   "execution_count": 55,
   "metadata": {},
   "outputs": [
    {
     "name": "stdout",
     "output_type": "stream",
     "text": [
      "                            permalink   name                homepage_url  \\\n",
      "count                           66368  66367                       61310   \n",
      "unique                          66368  66102                       61191   \n",
      "top     /Organization/Arta-Bioscience  Peach  http://www.askforoffer.com   \n",
      "freq                                1      4                           5   \n",
      "\n",
      "       category_list     status country_code state_code       region  \\\n",
      "count          63220      66368        59410      57821        58338   \n",
      "unique         27296          4          137        311         1092   \n",
      "top         Software  operating          USA         CA  SF Bay Area   \n",
      "freq            3995      53034        37601      12900         8804   \n",
      "\n",
      "                 city  founded_at  \n",
      "count           58340       51147  \n",
      "unique           5111        3978  \n",
      "top     San Francisco  01-01-2012  \n",
      "freq             3526        2730  \n"
     ]
    }
   ],
   "source": [
    "print(companies.describe())"
   ]
  },
  {
   "cell_type": "code",
   "execution_count": 56,
   "metadata": {},
   "outputs": [
    {
     "name": "stdout",
     "output_type": "stream",
     "text": [
      "66368\n",
      "permalink        66368\n",
      "name             66103\n",
      "homepage_url     61192\n",
      "category_list    27297\n",
      "status               4\n",
      "country_code       138\n",
      "state_code         312\n",
      "region            1093\n",
      "city              5112\n",
      "founded_at        3979\n",
      "dtype: int64\n",
      "0           NaN\n",
      "1    04-09-2014\n",
      "2           NaN\n",
      "3    01-01-2007\n",
      "4    01-01-2010\n",
      "5           NaN\n",
      "6    01-01-1997\n",
      "7    01-01-2011\n",
      "8    01-08-2011\n",
      "9    01-01-2012\n",
      "Name: founded_at, dtype: object\n"
     ]
    }
   ],
   "source": [
    "print(len(companies))\n",
    "print(companies.apply(lambda x: len(x.unique())))\n",
    "print(companies.founded_at.head(10))"
   ]
  },
  {
   "cell_type": "code",
   "execution_count": 57,
   "metadata": {},
   "outputs": [],
   "source": [
    "#status and country code can be converted to category, founded_at to be converted to date\n",
    "#permalink is exactly of same length as number of rows.\n",
    "#This might be candidate for uniqness. will chek firther\n",
    "companies.status = pd.Categorical(companies.status)\n",
    "#companies.country_code = pd.Categorical(companies.country_code)"
   ]
  },
  {
   "cell_type": "code",
   "execution_count": 58,
   "metadata": {},
   "outputs": [],
   "source": [
    "#companies funded at can be converted to date\n",
    "companies.founded_at = pd.to_datetime(companies.founded_at, format = '%d-%m-%Y', errors='coerce')"
   ]
  },
  {
   "cell_type": "code",
   "execution_count": 59,
   "metadata": {},
   "outputs": [],
   "source": [
    "#every entry in companies for permalink variable is unique as seen above. Lets see if same is the case\n",
    "#after converting each to lower\n",
    "len(companies.permalink.str.lower().unique()) == len(companies)\n",
    "\n",
    "#lower case the permalink and resolve accented characters\n",
    "companies.permalink = companies.permalink.str.lower()\n",
    "companies.permalink = companies.permalink.str.encode('utf-8').str.decode('ascii', 'ignore')\n",
    "\n",
    "\n"
   ]
  },
  {
   "cell_type": "code",
   "execution_count": 60,
   "metadata": {},
   "outputs": [
    {
     "name": "stdout",
     "output_type": "stream",
     "text": [
      "<class 'pandas.core.frame.DataFrame'>\n",
      "RangeIndex: 66368 entries, 0 to 66367\n",
      "Data columns (total 10 columns):\n",
      "permalink        66368 non-null object\n",
      "name             66367 non-null object\n",
      "homepage_url     61310 non-null object\n",
      "category_list    63220 non-null object\n",
      "status           66368 non-null category\n",
      "country_code     59410 non-null object\n",
      "state_code       57821 non-null object\n",
      "region           58338 non-null object\n",
      "city             58340 non-null object\n",
      "founded_at       51038 non-null datetime64[ns]\n",
      "dtypes: category(1), datetime64[ns](1), object(8)\n",
      "memory usage: 4.6+ MB\n",
      "permalink            0\n",
      "name                 1\n",
      "homepage_url      5058\n",
      "category_list     3148\n",
      "status               0\n",
      "country_code      6958\n",
      "state_code        8547\n",
      "region            8030\n",
      "city              8028\n",
      "founded_at       15330\n",
      "dtype: int64\n",
      "permalink        0.00\n",
      "name             0.00\n",
      "homepage_url     0.08\n",
      "category_list    0.05\n",
      "status           0.00\n",
      "country_code     0.10\n",
      "state_code       0.13\n",
      "region           0.12\n",
      "city             0.12\n",
      "founded_at       0.23\n",
      "dtype: float64\n"
     ]
    }
   ],
   "source": [
    "#lets check for missing values\n",
    "companies.info()\n",
    "print(round(companies.isnull().sum(), 2))\n",
    "print(round(companies.isnull().sum()/len(companies), 2))"
   ]
  },
  {
   "cell_type": "code",
   "execution_count": 61,
   "metadata": {},
   "outputs": [
    {
     "name": "stdout",
     "output_type": "stream",
     "text": [
      "5552\n"
     ]
    }
   ],
   "source": [
    "# # #country_code and category_list is the most important feature for the analysis.\n",
    "# # #lets find if we can fill these by inspecting values of other varibles\n",
    "\n",
    "# # #chekcing if city gives a hint of the country_code\n",
    "(companies[companies.country_code.isnull()][\"city\"].isnull() == False).sum()\n",
    "\n",
    "# # #we observe that all the city column for country code NULL is also NULL.\n",
    "# # #lets check if webpage givees any indication. its common to have country\n",
    "# # #specific domain names like .au or .in\n",
    "\n",
    "#checking if we have relevant values to work with\n",
    "print((companies[companies.country_code.isnull()][\"homepage_url\"].isnull() == False).sum())\n",
    "\n",
    "#extract the last toplevel domain\n",
    "companies[\"top_lvl_domain\"] = companies[\"homepage_url\"].str.extract(r'(\\w+)$')\n",
    "\n",
    "#read in csv files containing mapping of top level domain and country code\n",
    "#this data was sourced from https://www.ionos.com/digitalguide/domains/domain-extensions/cctlds-a-list-of-every-country-domain/\n",
    "#https://www.worldstandards.eu/other/tlds/\n",
    "top_lvl_dom = pd.read_csv(\"C:/Users/Rabi/Documents/Data_Science/upgrad/investment_case_study/country_url_toplvldomain.csv\", encoding = 'unicode_escape')\n",
    "\n",
    "#merging thedomain lvel info with companies\n",
    "companies = pd.merge(companies, top_lvl_dom, how='left', left_on='top_lvl_domain', right_on = 'top_lvl_domain')"
   ]
  },
  {
   "cell_type": "code",
   "execution_count": 62,
   "metadata": {},
   "outputs": [],
   "source": [
    "#checking how many missing country_code can be coded\n",
    "len(companies[companies.country_code.isnull() * ~companies.code.isnull()].code.index.values)\n",
    "\n",
    "#getting their index and assinging codes.\n",
    "idx = companies[companies.country_code.isnull() * ~companies.code.isnull()].code.index.values.tolist()\n",
    "companies.loc[idx, \"country_code\"] = companies.loc[idx, \"code\"].tolist()\n",
    "companies.country_code = pd.Categorical(companies.country_code)"
   ]
  },
  {
   "cell_type": "code",
   "execution_count": 63,
   "metadata": {},
   "outputs": [],
   "source": [
    "companies.drop([\"top_lvl_domain\", \"country_name\",\"code\"], axis = 1, inplace=True)"
   ]
  },
  {
   "cell_type": "code",
   "execution_count": 64,
   "metadata": {},
   "outputs": [
    {
     "name": "stdout",
     "output_type": "stream",
     "text": [
      "<class 'pandas.core.frame.DataFrame'>\n",
      "Int64Index: 66368 entries, 0 to 66367\n",
      "Data columns (total 10 columns):\n",
      "permalink        66368 non-null object\n",
      "name             66367 non-null object\n",
      "homepage_url     61310 non-null object\n",
      "category_list    63220 non-null object\n",
      "status           66368 non-null category\n",
      "country_code     60011 non-null category\n",
      "state_code       57821 non-null object\n",
      "region           58338 non-null object\n",
      "city             58340 non-null object\n",
      "founded_at       51038 non-null datetime64[ns]\n",
      "dtypes: category(2), datetime64[ns](1), object(7)\n",
      "memory usage: 7.3+ MB\n",
      "permalink            0\n",
      "name                 1\n",
      "homepage_url      5058\n",
      "category_list     3148\n",
      "status               0\n",
      "country_code      6357\n",
      "state_code        8547\n",
      "region            8030\n",
      "city              8028\n",
      "founded_at       15330\n",
      "dtype: int64\n",
      "permalink        0.00\n",
      "name             0.00\n",
      "homepage_url     0.08\n",
      "category_list    0.05\n",
      "status           0.00\n",
      "country_code     0.10\n",
      "state_code       0.13\n",
      "region           0.12\n",
      "city             0.12\n",
      "founded_at       0.23\n",
      "dtype: float64\n"
     ]
    }
   ],
   "source": [
    "companies.info()\n",
    "print(round(companies.isnull().sum(), 2))\n",
    "print(round(companies.isnull().sum()/len(companies), 2))"
   ]
  },
  {
   "cell_type": "markdown",
   "metadata": {},
   "source": [
    "# We now proceed with analysis asked as per assignment"
   ]
  },
  {
   "cell_type": "markdown",
   "metadata": {},
   "source": [
    "## Data Cleaning 1"
   ]
  },
  {
   "cell_type": "code",
   "execution_count": 65,
   "metadata": {},
   "outputs": [
    {
     "data": {
      "text/plain": [
       "66368"
      ]
     },
     "execution_count": 65,
     "metadata": {},
     "output_type": "execute_result"
    }
   ],
   "source": [
    "#How many unique companies are present in rounds2?\n",
    "len(rounds2.company_permalink.unique())\n"
   ]
  },
  {
   "cell_type": "code",
   "execution_count": 66,
   "metadata": {},
   "outputs": [
    {
     "data": {
      "text/plain": [
       "66368"
      ]
     },
     "execution_count": 66,
     "metadata": {},
     "output_type": "execute_result"
    }
   ],
   "source": [
    "#How many unique companies are present in the companies file?\n",
    "len(companies.permalink.unique())"
   ]
  },
  {
   "cell_type": "code",
   "execution_count": 67,
   "metadata": {},
   "outputs": [
    {
     "name": "stdout",
     "output_type": "stream",
     "text": [
      "66368\n",
      "permalink        66368\n",
      "name             66103\n",
      "homepage_url     61192\n",
      "category_list    27297\n",
      "status               4\n",
      "country_code       156\n",
      "state_code         312\n",
      "region            1093\n",
      "city              5112\n",
      "founded_at        3904\n",
      "dtype: int64\n"
     ]
    }
   ],
   "source": [
    "#In the companies data frame, which column can be used as the  unique key for each company?\n",
    "#Write the name of the column.\n",
    "print(len(companies))\n",
    "print(companies.apply(lambda x: len(x.unique())))\n"
   ]
  },
  {
   "cell_type": "code",
   "execution_count": 68,
   "metadata": {},
   "outputs": [
    {
     "name": "stdout",
     "output_type": "stream",
     "text": [
      "False\n"
     ]
    }
   ],
   "source": [
    "#Are there any companies in the rounds2 file which are not  present in companies ?\n",
    "#Answer Y(True)/N(False).\n",
    "\n",
    "print(len(set(rounds2.company_permalink).difference(set(companies.permalink))) > 0)"
   ]
  },
  {
   "cell_type": "code",
   "execution_count": 69,
   "metadata": {},
   "outputs": [
    {
     "name": "stdout",
     "output_type": "stream",
     "text": [
      "<class 'pandas.core.frame.DataFrame'>\n",
      "Int64Index: 114949 entries, 0 to 114948\n",
      "Data columns (total 16 columns):\n",
      "company_permalink          114949 non-null object\n",
      "funding_round_permalink    114949 non-null object\n",
      "funding_round_type         114949 non-null category\n",
      "funding_round_code         31140 non-null category\n",
      "funded_at                  114949 non-null datetime64[ns]\n",
      "raised_amount_usd          94959 non-null float64\n",
      "permalink                  114949 non-null object\n",
      "name                       114948 non-null object\n",
      "homepage_url               108815 non-null object\n",
      "category_list              111539 non-null object\n",
      "status                     114949 non-null category\n",
      "country_code               107015 non-null category\n",
      "state_code                 104003 non-null object\n",
      "region                     104782 non-null object\n",
      "city                       104785 non-null object\n",
      "founded_at                 94286 non-null datetime64[ns]\n",
      "dtypes: category(4), datetime64[ns](2), float64(1), object(9)\n",
      "memory usage: 12.0+ MB\n"
     ]
    },
    {
     "data": {
      "text/plain": [
       "company_permalink          0.00\n",
       "funding_round_permalink    0.00\n",
       "funding_round_type         0.00\n",
       "funding_round_code         0.73\n",
       "funded_at                  0.00\n",
       "raised_amount_usd          0.17\n",
       "permalink                  0.00\n",
       "name                       0.00\n",
       "homepage_url               0.05\n",
       "category_list              0.03\n",
       "status                     0.00\n",
       "country_code               0.07\n",
       "state_code                 0.10\n",
       "region                     0.09\n",
       "city                       0.09\n",
       "founded_at                 0.18\n",
       "dtype: float64"
      ]
     },
     "execution_count": 69,
     "metadata": {},
     "output_type": "execute_result"
    }
   ],
   "source": [
    "#Merge the two data frames so that all variables (columns) in the companies frame are\n",
    "#added to the rounds2 data frame. Name the merged frame master_frame.\n",
    "#How many observations are present in master_frame?\n",
    "\n",
    "master_frame = pd.merge(rounds2, companies, how='left', left_on='company_permalink', right_on = 'permalink')\n",
    "master_frame.info()\n",
    "round(master_frame.isnull().sum()/len(master_frame), 2)\n"
   ]
  },
  {
   "cell_type": "markdown",
   "metadata": {},
   "source": [
    "## Funding Type Analysis"
   ]
  },
  {
   "cell_type": "code",
   "execution_count": 70,
   "metadata": {},
   "outputs": [
    {
     "data": {
      "text/plain": [
       "funding_round_type\n",
       "post_ipo_debt            168.70\n",
       "post_ipo_equity           82.18\n",
       "secondary_market          79.65\n",
       "private_equity            73.31\n",
       "undisclosed               19.24\n",
       "debt_financing            17.04\n",
       "venture                   11.75\n",
       "grant                      4.30\n",
       "convertible_note           1.45\n",
       "product_crowdfunding       1.36\n",
       "angel                      0.96\n",
       "seed                       0.72\n",
       "equity_crowdfunding        0.54\n",
       "non_equity_assistance      0.41\n",
       "Name: raised_amount_usd, dtype: float64"
      ]
     },
     "execution_count": 70,
     "metadata": {},
     "output_type": "execute_result"
    }
   ],
   "source": [
    "#calculate avergae investemnts in diffrent FT\n",
    "round(master_frame.groupby(\"funding_round_type\").raised_amount_usd.mean().sort_values(ascending=False), 2)"
   ]
  },
  {
   "cell_type": "markdown",
   "metadata": {},
   "source": [
    "From the table above it looks like given the constrains of 5 to 15 mn ticket size Spark Fund should invest in ventures."
   ]
  },
  {
   "cell_type": "markdown",
   "metadata": {},
   "source": [
    "## Country Analysis"
   ]
  },
  {
   "cell_type": "code",
   "execution_count": 71,
   "metadata": {},
   "outputs": [
    {
     "data": {
      "text/html": [
       "<div>\n",
       "<style scoped>\n",
       "    .dataframe tbody tr th:only-of-type {\n",
       "        vertical-align: middle;\n",
       "    }\n",
       "\n",
       "    .dataframe tbody tr th {\n",
       "        vertical-align: top;\n",
       "    }\n",
       "\n",
       "    .dataframe thead th {\n",
       "        text-align: right;\n",
       "    }\n",
       "</style>\n",
       "<table border=\"1\" class=\"dataframe\">\n",
       "  <thead>\n",
       "    <tr style=\"text-align: right;\">\n",
       "      <th></th>\n",
       "      <th>raised_amount_usd</th>\n",
       "    </tr>\n",
       "    <tr>\n",
       "      <th>country_code</th>\n",
       "      <th></th>\n",
       "    </tr>\n",
       "  </thead>\n",
       "  <tbody>\n",
       "    <tr>\n",
       "      <th>USA</th>\n",
       "      <td>422516.84</td>\n",
       "    </tr>\n",
       "    <tr>\n",
       "      <th>CHN</th>\n",
       "      <td>40164.30</td>\n",
       "    </tr>\n",
       "    <tr>\n",
       "      <th>GBR</th>\n",
       "      <td>20309.70</td>\n",
       "    </tr>\n",
       "    <tr>\n",
       "      <th>IND</th>\n",
       "      <td>14394.56</td>\n",
       "    </tr>\n",
       "    <tr>\n",
       "      <th>CAN</th>\n",
       "      <td>9585.53</td>\n",
       "    </tr>\n",
       "    <tr>\n",
       "      <th>FRA</th>\n",
       "      <td>7298.70</td>\n",
       "    </tr>\n",
       "    <tr>\n",
       "      <th>ISR</th>\n",
       "      <td>6937.01</td>\n",
       "    </tr>\n",
       "    <tr>\n",
       "      <th>DEU</th>\n",
       "      <td>6346.96</td>\n",
       "    </tr>\n",
       "    <tr>\n",
       "      <th>JPN</th>\n",
       "      <td>3398.14</td>\n",
       "    </tr>\n",
       "  </tbody>\n",
       "</table>\n",
       "</div>"
      ],
      "text/plain": [
       "              raised_amount_usd\n",
       "country_code                   \n",
       "USA                   422516.84\n",
       "CHN                    40164.30\n",
       "GBR                    20309.70\n",
       "IND                    14394.56\n",
       "CAN                     9585.53\n",
       "FRA                     7298.70\n",
       "ISR                     6937.01\n",
       "DEU                     6346.96\n",
       "JPN                     3398.14"
      ]
     },
     "execution_count": 71,
     "metadata": {},
     "output_type": "execute_result"
    }
   ],
   "source": [
    "#Spark Funds wants to see the top nine countries which have received the highest total \n",
    "#funding (across ALL sectors for the chosen investment type)\n",
    "\n",
    "group_country = master_frame[master_frame.funding_round_type == \"venture\"].groupby(\"country_code\")\n",
    "top9 = round(group_country.raised_amount_usd.sum().sort_values(ascending = False), 2).head(9).to_frame()\n",
    "top9"
   ]
  },
  {
   "cell_type": "markdown",
   "metadata": {},
   "source": [
    "Fro table above we see that th top3 english speaking countries are USA, Great Britain and India."
   ]
  },
  {
   "cell_type": "markdown",
   "metadata": {},
   "source": [
    "## Sector Analysis 1"
   ]
  },
  {
   "cell_type": "code",
   "execution_count": 72,
   "metadata": {},
   "outputs": [
    {
     "data": {
      "text/html": [
       "<div>\n",
       "<style scoped>\n",
       "    .dataframe tbody tr th:only-of-type {\n",
       "        vertical-align: middle;\n",
       "    }\n",
       "\n",
       "    .dataframe tbody tr th {\n",
       "        vertical-align: top;\n",
       "    }\n",
       "\n",
       "    .dataframe thead th {\n",
       "        text-align: right;\n",
       "    }\n",
       "</style>\n",
       "<table border=\"1\" class=\"dataframe\">\n",
       "  <thead>\n",
       "    <tr style=\"text-align: right;\">\n",
       "      <th></th>\n",
       "      <th>category_list</th>\n",
       "      <th>Automotive &amp; Sports</th>\n",
       "      <th>Blanks</th>\n",
       "      <th>Cleantech / Semiconductors</th>\n",
       "      <th>Entertainment</th>\n",
       "      <th>Health</th>\n",
       "      <th>Manufacturing</th>\n",
       "      <th>News, Search and Messaging</th>\n",
       "      <th>Others</th>\n",
       "      <th>Social, Finance, Analytics, Advertising</th>\n",
       "    </tr>\n",
       "  </thead>\n",
       "  <tbody>\n",
       "    <tr>\n",
       "      <th>0</th>\n",
       "      <td>NaN</td>\n",
       "      <td>0</td>\n",
       "      <td>1</td>\n",
       "      <td>0</td>\n",
       "      <td>0</td>\n",
       "      <td>0</td>\n",
       "      <td>0</td>\n",
       "      <td>0</td>\n",
       "      <td>0</td>\n",
       "      <td>0</td>\n",
       "    </tr>\n",
       "    <tr>\n",
       "      <th>1</th>\n",
       "      <td>3D</td>\n",
       "      <td>0</td>\n",
       "      <td>0</td>\n",
       "      <td>0</td>\n",
       "      <td>0</td>\n",
       "      <td>0</td>\n",
       "      <td>1</td>\n",
       "      <td>0</td>\n",
       "      <td>0</td>\n",
       "      <td>0</td>\n",
       "    </tr>\n",
       "    <tr>\n",
       "      <th>2</th>\n",
       "      <td>3D Printing</td>\n",
       "      <td>0</td>\n",
       "      <td>0</td>\n",
       "      <td>0</td>\n",
       "      <td>0</td>\n",
       "      <td>0</td>\n",
       "      <td>1</td>\n",
       "      <td>0</td>\n",
       "      <td>0</td>\n",
       "      <td>0</td>\n",
       "    </tr>\n",
       "    <tr>\n",
       "      <th>3</th>\n",
       "      <td>3D Technology</td>\n",
       "      <td>0</td>\n",
       "      <td>0</td>\n",
       "      <td>0</td>\n",
       "      <td>0</td>\n",
       "      <td>0</td>\n",
       "      <td>1</td>\n",
       "      <td>0</td>\n",
       "      <td>0</td>\n",
       "      <td>0</td>\n",
       "    </tr>\n",
       "    <tr>\n",
       "      <th>4</th>\n",
       "      <td>Accounting</td>\n",
       "      <td>0</td>\n",
       "      <td>0</td>\n",
       "      <td>0</td>\n",
       "      <td>0</td>\n",
       "      <td>0</td>\n",
       "      <td>0</td>\n",
       "      <td>0</td>\n",
       "      <td>0</td>\n",
       "      <td>1</td>\n",
       "    </tr>\n",
       "  </tbody>\n",
       "</table>\n",
       "</div>"
      ],
      "text/plain": [
       "   category_list  Automotive & Sports  Blanks  Cleantech / Semiconductors  \\\n",
       "0            NaN                    0       1                           0   \n",
       "1             3D                    0       0                           0   \n",
       "2    3D Printing                    0       0                           0   \n",
       "3  3D Technology                    0       0                           0   \n",
       "4     Accounting                    0       0                           0   \n",
       "\n",
       "   Entertainment  Health  Manufacturing  News, Search and Messaging  Others  \\\n",
       "0              0       0              0                           0       0   \n",
       "1              0       0              1                           0       0   \n",
       "2              0       0              1                           0       0   \n",
       "3              0       0              1                           0       0   \n",
       "4              0       0              0                           0       0   \n",
       "\n",
       "   Social, Finance, Analytics, Advertising  \n",
       "0                                        0  \n",
       "1                                        0  \n",
       "2                                        0  \n",
       "3                                        0  \n",
       "4                                        1  "
      ]
     },
     "execution_count": 72,
     "metadata": {},
     "output_type": "execute_result"
    }
   ],
   "source": [
    "#reading mapping file\n",
    "main_sector_mapping = pd.read_csv(\"C:/Users/Rabi/Documents/Data_Science/upgrad/investment_case_study/mapping.csv\", encoding = 'unicode_escape')\n",
    "main_sector_mapping.head(5)"
   ]
  },
  {
   "cell_type": "code",
   "execution_count": 73,
   "metadata": {},
   "outputs": [
    {
     "data": {
      "text/html": [
       "<div>\n",
       "<style scoped>\n",
       "    .dataframe tbody tr th:only-of-type {\n",
       "        vertical-align: middle;\n",
       "    }\n",
       "\n",
       "    .dataframe tbody tr th {\n",
       "        vertical-align: top;\n",
       "    }\n",
       "\n",
       "    .dataframe thead th {\n",
       "        text-align: right;\n",
       "    }\n",
       "</style>\n",
       "<table border=\"1\" class=\"dataframe\">\n",
       "  <thead>\n",
       "    <tr style=\"text-align: right;\">\n",
       "      <th></th>\n",
       "      <th>category_list</th>\n",
       "      <th>main_sector</th>\n",
       "      <th>value</th>\n",
       "    </tr>\n",
       "  </thead>\n",
       "  <tbody>\n",
       "    <tr>\n",
       "      <th>0</th>\n",
       "      <td>NaN</td>\n",
       "      <td>Automotive &amp; Sports</td>\n",
       "      <td>0</td>\n",
       "    </tr>\n",
       "    <tr>\n",
       "      <th>1</th>\n",
       "      <td>3D</td>\n",
       "      <td>Automotive &amp; Sports</td>\n",
       "      <td>0</td>\n",
       "    </tr>\n",
       "    <tr>\n",
       "      <th>2</th>\n",
       "      <td>3D Printing</td>\n",
       "      <td>Automotive &amp; Sports</td>\n",
       "      <td>0</td>\n",
       "    </tr>\n",
       "    <tr>\n",
       "      <th>3</th>\n",
       "      <td>3D Technology</td>\n",
       "      <td>Automotive &amp; Sports</td>\n",
       "      <td>0</td>\n",
       "    </tr>\n",
       "    <tr>\n",
       "      <th>4</th>\n",
       "      <td>Accounting</td>\n",
       "      <td>Automotive &amp; Sports</td>\n",
       "      <td>0</td>\n",
       "    </tr>\n",
       "  </tbody>\n",
       "</table>\n",
       "</div>"
      ],
      "text/plain": [
       "   category_list          main_sector  value\n",
       "0            NaN  Automotive & Sports      0\n",
       "1             3D  Automotive & Sports      0\n",
       "2    3D Printing  Automotive & Sports      0\n",
       "3  3D Technology  Automotive & Sports      0\n",
       "4     Accounting  Automotive & Sports      0"
      ]
     },
     "execution_count": 73,
     "metadata": {},
     "output_type": "execute_result"
    }
   ],
   "source": [
    "#converting to tabular\n",
    "main_sector_mapping = pd.melt(main_sector_mapping, id_vars=\"category_list\", var_name = \"main_sector\")\n",
    "main_sector_mapping.head(5)"
   ]
  },
  {
   "cell_type": "code",
   "execution_count": 74,
   "metadata": {},
   "outputs": [
    {
     "data": {
      "text/html": [
       "<div>\n",
       "<style scoped>\n",
       "    .dataframe tbody tr th:only-of-type {\n",
       "        vertical-align: middle;\n",
       "    }\n",
       "\n",
       "    .dataframe tbody tr th {\n",
       "        vertical-align: top;\n",
       "    }\n",
       "\n",
       "    .dataframe thead th {\n",
       "        text-align: right;\n",
       "    }\n",
       "</style>\n",
       "<table border=\"1\" class=\"dataframe\">\n",
       "  <thead>\n",
       "    <tr style=\"text-align: right;\">\n",
       "      <th></th>\n",
       "      <th>category_list</th>\n",
       "      <th>main_sector</th>\n",
       "    </tr>\n",
       "  </thead>\n",
       "  <tbody>\n",
       "    <tr>\n",
       "      <th>6117</th>\n",
       "      <td>Social Media Marketing</td>\n",
       "      <td>Social, Finance, Analytics, Advertising</td>\n",
       "    </tr>\n",
       "    <tr>\n",
       "      <th>5058</th>\n",
       "      <td>Engineering Firms</td>\n",
       "      <td>Others</td>\n",
       "    </tr>\n",
       "    <tr>\n",
       "      <th>5641</th>\n",
       "      <td>Consulting</td>\n",
       "      <td>Social, Finance, Analytics, Advertising</td>\n",
       "    </tr>\n",
       "    <tr>\n",
       "      <th>5467</th>\n",
       "      <td>Translation</td>\n",
       "      <td>Others</td>\n",
       "    </tr>\n",
       "    <tr>\n",
       "      <th>3236</th>\n",
       "      <td>Nutrition</td>\n",
       "      <td>Health</td>\n",
       "    </tr>\n",
       "  </tbody>\n",
       "</table>\n",
       "</div>"
      ],
      "text/plain": [
       "               category_list                              main_sector\n",
       "6117  Social Media Marketing  Social, Finance, Analytics, Advertising\n",
       "5058       Engineering Firms                                   Others\n",
       "5641              Consulting  Social, Finance, Analytics, Advertising\n",
       "5467             Translation                                   Others\n",
       "3236               Nutrition                                   Health"
      ]
     },
     "execution_count": 74,
     "metadata": {},
     "output_type": "execute_result"
    }
   ],
   "source": [
    "#selecting relevant rows for mapping.\n",
    "main_sector_mapping = main_sector_mapping[main_sector_mapping.value == 1]\n",
    "main_sector_mapping.drop([\"value\"] , axis = 1, inplace = True)\n",
    "main_sector_mapping.sample(5)"
   ]
  },
  {
   "cell_type": "code",
   "execution_count": 75,
   "metadata": {},
   "outputs": [
    {
     "data": {
      "text/html": [
       "<div>\n",
       "<style scoped>\n",
       "    .dataframe tbody tr th:only-of-type {\n",
       "        vertical-align: middle;\n",
       "    }\n",
       "\n",
       "    .dataframe tbody tr th {\n",
       "        vertical-align: top;\n",
       "    }\n",
       "\n",
       "    .dataframe thead th {\n",
       "        text-align: right;\n",
       "    }\n",
       "</style>\n",
       "<table border=\"1\" class=\"dataframe\">\n",
       "  <thead>\n",
       "    <tr style=\"text-align: right;\">\n",
       "      <th></th>\n",
       "      <th>company_permalink</th>\n",
       "      <th>funding_round_permalink</th>\n",
       "      <th>funding_round_type</th>\n",
       "      <th>funding_round_code</th>\n",
       "      <th>funded_at</th>\n",
       "      <th>raised_amount_usd</th>\n",
       "      <th>permalink</th>\n",
       "      <th>name</th>\n",
       "      <th>homepage_url</th>\n",
       "      <th>category_list</th>\n",
       "      <th>status</th>\n",
       "      <th>country_code</th>\n",
       "      <th>state_code</th>\n",
       "      <th>region</th>\n",
       "      <th>city</th>\n",
       "      <th>founded_at</th>\n",
       "      <th>primary_sector</th>\n",
       "      <th>main_sector</th>\n",
       "    </tr>\n",
       "  </thead>\n",
       "  <tbody>\n",
       "    <tr>\n",
       "      <th>111812</th>\n",
       "      <td>/organization/www-sarmeks-com</td>\n",
       "      <td>/funding-round/11c27c46e0f886e5b142cfa43d102ffe</td>\n",
       "      <td>private_equity</td>\n",
       "      <td>NaN</td>\n",
       "      <td>2013-04-04</td>\n",
       "      <td>0.005</td>\n",
       "      <td>/organization/www-sarmeks-com</td>\n",
       "      <td>Sarmeks Tech</td>\n",
       "      <td>http://www.sarmeks.com</td>\n",
       "      <td>Enterprise Software|Portals|Social Games</td>\n",
       "      <td>operating</td>\n",
       "      <td>UKR</td>\n",
       "      <td>24</td>\n",
       "      <td>UKR - Other</td>\n",
       "      <td>Lutsk</td>\n",
       "      <td>NaT</td>\n",
       "      <td>Enterprise Software</td>\n",
       "      <td>Others</td>\n",
       "    </tr>\n",
       "    <tr>\n",
       "      <th>50237</th>\n",
       "      <td>/organization/isirona</td>\n",
       "      <td>/funding-round/1467c56c4d3b6005383e5ddd2a5f083e</td>\n",
       "      <td>venture</td>\n",
       "      <td>NaN</td>\n",
       "      <td>2009-10-28</td>\n",
       "      <td>1.500</td>\n",
       "      <td>/organization/isirona</td>\n",
       "      <td>iSirona</td>\n",
       "      <td>http://isirona.com</td>\n",
       "      <td>Biotechnology</td>\n",
       "      <td>operating</td>\n",
       "      <td>USA</td>\n",
       "      <td>FL</td>\n",
       "      <td>Panama City</td>\n",
       "      <td>Panama City</td>\n",
       "      <td>2007-01-01</td>\n",
       "      <td>Biotechnology</td>\n",
       "      <td>Cleantech / Semiconductors</td>\n",
       "    </tr>\n",
       "    <tr>\n",
       "      <th>81973</th>\n",
       "      <td>/organization/recon-instruments</td>\n",
       "      <td>/funding-round/776c1e89e375ca1302c8061190c67bbc</td>\n",
       "      <td>venture</td>\n",
       "      <td>A</td>\n",
       "      <td>2012-01-18</td>\n",
       "      <td>10.000</td>\n",
       "      <td>/organization/recon-instruments</td>\n",
       "      <td>Recon Instruments</td>\n",
       "      <td>http://www.reconinstruments.com</td>\n",
       "      <td>Consumer Electronics|Electronics|Health and We...</td>\n",
       "      <td>acquired</td>\n",
       "      <td>CAN</td>\n",
       "      <td>BC</td>\n",
       "      <td>Vancouver</td>\n",
       "      <td>Vancouver</td>\n",
       "      <td>2008-01-17</td>\n",
       "      <td>Consumer Electronics</td>\n",
       "      <td>Manufacturing</td>\n",
       "    </tr>\n",
       "    <tr>\n",
       "      <th>1993</th>\n",
       "      <td>/organization/activegrid</td>\n",
       "      <td>/funding-round/f068ce9f5e13231f780b3c9aae318cfc</td>\n",
       "      <td>venture</td>\n",
       "      <td>A</td>\n",
       "      <td>2004-11-17</td>\n",
       "      <td>3.000</td>\n",
       "      <td>/organization/activegrid</td>\n",
       "      <td>ActiveGrid</td>\n",
       "      <td>http://www.activegrid.com/</td>\n",
       "      <td>Information Technology|SaaS|Visualization</td>\n",
       "      <td>closed</td>\n",
       "      <td>USA</td>\n",
       "      <td>CA</td>\n",
       "      <td>SF Bay Area</td>\n",
       "      <td>San Francisco</td>\n",
       "      <td>NaT</td>\n",
       "      <td>Information Technology</td>\n",
       "      <td>Social, Finance, Analytics, Advertising</td>\n",
       "    </tr>\n",
       "    <tr>\n",
       "      <th>104513</th>\n",
       "      <td>/organization/ummc</td>\n",
       "      <td>/funding-round/9b8f0afeef2991b4806aff3eb45db49c</td>\n",
       "      <td>debt_financing</td>\n",
       "      <td>NaN</td>\n",
       "      <td>2013-08-22</td>\n",
       "      <td>37.000</td>\n",
       "      <td>/organization/ummc</td>\n",
       "      <td>UMMC</td>\n",
       "      <td>http://umc.edu</td>\n",
       "      <td>Education</td>\n",
       "      <td>operating</td>\n",
       "      <td>USA</td>\n",
       "      <td>MS</td>\n",
       "      <td>Jackson</td>\n",
       "      <td>Jackson</td>\n",
       "      <td>1955-01-01</td>\n",
       "      <td>Education</td>\n",
       "      <td>Others</td>\n",
       "    </tr>\n",
       "  </tbody>\n",
       "</table>\n",
       "</div>"
      ],
      "text/plain": [
       "                      company_permalink  \\\n",
       "111812    /organization/www-sarmeks-com   \n",
       "50237             /organization/isirona   \n",
       "81973   /organization/recon-instruments   \n",
       "1993           /organization/activegrid   \n",
       "104513               /organization/ummc   \n",
       "\n",
       "                                funding_round_permalink funding_round_type  \\\n",
       "111812  /funding-round/11c27c46e0f886e5b142cfa43d102ffe     private_equity   \n",
       "50237   /funding-round/1467c56c4d3b6005383e5ddd2a5f083e            venture   \n",
       "81973   /funding-round/776c1e89e375ca1302c8061190c67bbc            venture   \n",
       "1993    /funding-round/f068ce9f5e13231f780b3c9aae318cfc            venture   \n",
       "104513  /funding-round/9b8f0afeef2991b4806aff3eb45db49c     debt_financing   \n",
       "\n",
       "       funding_round_code  funded_at  raised_amount_usd  \\\n",
       "111812                NaN 2013-04-04              0.005   \n",
       "50237                 NaN 2009-10-28              1.500   \n",
       "81973                   A 2012-01-18             10.000   \n",
       "1993                    A 2004-11-17              3.000   \n",
       "104513                NaN 2013-08-22             37.000   \n",
       "\n",
       "                              permalink               name  \\\n",
       "111812    /organization/www-sarmeks-com       Sarmeks Tech   \n",
       "50237             /organization/isirona            iSirona   \n",
       "81973   /organization/recon-instruments  Recon Instruments   \n",
       "1993           /organization/activegrid         ActiveGrid   \n",
       "104513               /organization/ummc               UMMC   \n",
       "\n",
       "                           homepage_url  \\\n",
       "111812           http://www.sarmeks.com   \n",
       "50237                http://isirona.com   \n",
       "81973   http://www.reconinstruments.com   \n",
       "1993         http://www.activegrid.com/   \n",
       "104513                   http://umc.edu   \n",
       "\n",
       "                                            category_list     status  \\\n",
       "111812           Enterprise Software|Portals|Social Games  operating   \n",
       "50237                                       Biotechnology  operating   \n",
       "81973   Consumer Electronics|Electronics|Health and We...   acquired   \n",
       "1993            Information Technology|SaaS|Visualization     closed   \n",
       "104513                                          Education  operating   \n",
       "\n",
       "       country_code state_code       region           city founded_at  \\\n",
       "111812          UKR         24  UKR - Other          Lutsk        NaT   \n",
       "50237           USA         FL  Panama City    Panama City 2007-01-01   \n",
       "81973           CAN         BC    Vancouver      Vancouver 2008-01-17   \n",
       "1993            USA         CA  SF Bay Area  San Francisco        NaT   \n",
       "104513          USA         MS      Jackson        Jackson 1955-01-01   \n",
       "\n",
       "                primary_sector                              main_sector  \n",
       "111812     Enterprise Software                                   Others  \n",
       "50237            Biotechnology               Cleantech / Semiconductors  \n",
       "81973     Consumer Electronics                            Manufacturing  \n",
       "1993    Information Technology  Social, Finance, Analytics, Advertising  \n",
       "104513               Education                                   Others  "
      ]
     },
     "execution_count": 75,
     "metadata": {},
     "output_type": "execute_result"
    }
   ],
   "source": [
    "#preparing master_frame with Primary Sector\n",
    "master_frame[\"primary_sector\"] = master_frame.category_list.str.split('|',expand=True)[0]\n",
    "\n",
    "#mergin the main sector in master_frame and cleaning duplicate binding columns\n",
    "master_frame = pd.merge(master_frame, main_sector_mapping, how='left', left_on='primary_sector', right_on = 'category_list')\n",
    "master_frame = master_frame.rename(columns = {'category_list_x':'category_list'})\n",
    "master_frame.drop([\"category_list_y\"] , axis = 1, inplace = True)\n",
    "master_frame.sample(5)"
   ]
  },
  {
   "cell_type": "code",
   "execution_count": 76,
   "metadata": {},
   "outputs": [],
   "source": [
    "missing_category_main_sector = master_frame[master_frame.main_sector.isnull()].groupby(\"primary_sector\").primary_sector.count().sort_values(ascending = False)"
   ]
  },
  {
   "cell_type": "code",
   "execution_count": 77,
   "metadata": {},
   "outputs": [
    {
     "name": "stdout",
     "output_type": "stream",
     "text": [
      "primary_sector\n",
      "Analytics             0.442766\n",
      "Finance               0.235937\n",
      "Big Data Analytics    0.056252\n",
      "Financial Services    0.055760\n",
      "Nanotechnology        0.031688\n",
      "Name: primary_sector, dtype: float64\n",
      "['Automotive & Sports' 'Blanks' 'Cleantech / Semiconductors'\n",
      " 'Entertainment' 'Health' 'Manufacturing' 'News, Search and Messaging'\n",
      " 'Others' 'Social, Finance, Analytics, Advertising']\n"
     ]
    }
   ],
   "source": [
    "#lets check if we can solve for main_sector for most commony missing categries, \n",
    "(missing_category_main_sector/missing_category_main_sector.sum())[0:5].sum()\n",
    "#first 5 category covers upto 82% of missing case. also bottom down there are some familiar sector\n",
    "# that can be tied tomain sector, for ecample Business Analytics to Analytics and Finance Tech to Finance.\n",
    "print((missing_category_main_sector/missing_category_main_sector.sum())[0:5])\n",
    "print(main_sector_mapping.main_sector.unique())\n",
    "master_frame.loc[master_frame.primary_sector.isin([\"Analytics\", \"Business Analytics\", \"Big Data Analytics\", \"Finance\", \"Financial Services\", \"Finance Technology\", \"Investment Management\"]), \"main_sector\"]  = \"Social, Finance, Analytics, Advertising\"\n",
    "#master_frame.loc[master_frame.primary_sector.isin([\"Finance\", \"Financial Services\", \"Finance Technology\", \"Investment Management\"]), \"main_sector\"]  = \"Finance\"\n",
    "master_frame.loc[master_frame.primary_sector == \"Nanotechnology\", \"main_sector\"]  = \"Cleantech / Semiconductors\"\n"
   ]
  },
  {
   "cell_type": "code",
   "execution_count": 78,
   "metadata": {},
   "outputs": [
    {
     "data": {
      "text/plain": [
       "0.008"
      ]
     },
     "execution_count": 78,
     "metadata": {},
     "output_type": "execute_result"
    }
   ],
   "source": [
    "#checking the impact of leftovers on overall investment raised in\n",
    "round(master_frame[master_frame.main_sector.isnull()].raised_amount_usd.sum()/master_frame.raised_amount_usd.sum(), 3)"
   ]
  },
  {
   "cell_type": "markdown",
   "metadata": {},
   "source": [
    "The investements in remainng primary sectors sums upto less than.8%. This is insignificant hence can be grouped too Others"
   ]
  },
  {
   "cell_type": "code",
   "execution_count": 79,
   "metadata": {
    "scrolled": true
   },
   "outputs": [],
   "source": [
    "#assigning rest of the missing main sectors to Others\n",
    "master_frame.loc[master_frame.main_sector.isnull(), \"main_sector\"] = \"Others\""
   ]
  },
  {
   "cell_type": "code",
   "execution_count": 80,
   "metadata": {},
   "outputs": [
    {
     "name": "stdout",
     "output_type": "stream",
     "text": [
      "<class 'pandas.core.frame.DataFrame'>\n",
      "Int64Index: 114949 entries, 0 to 114948\n",
      "Data columns (total 18 columns):\n",
      "company_permalink          114949 non-null object\n",
      "funding_round_permalink    114949 non-null object\n",
      "funding_round_type         114949 non-null category\n",
      "funding_round_code         31140 non-null category\n",
      "funded_at                  114949 non-null datetime64[ns]\n",
      "raised_amount_usd          94959 non-null float64\n",
      "permalink                  114949 non-null object\n",
      "name                       114948 non-null object\n",
      "homepage_url               108815 non-null object\n",
      "category_list              111539 non-null object\n",
      "status                     114949 non-null category\n",
      "country_code               107015 non-null category\n",
      "state_code                 104003 non-null object\n",
      "region                     104782 non-null object\n",
      "city                       104785 non-null object\n",
      "founded_at                 94286 non-null datetime64[ns]\n",
      "primary_sector             111539 non-null object\n",
      "main_sector                114949 non-null object\n",
      "dtypes: category(4), datetime64[ns](2), float64(1), object(11)\n",
      "memory usage: 13.7+ MB\n"
     ]
    }
   ],
   "source": [
    "master_frame.info()\n",
    "master_frame.to_csv(\"master_frame.csv\", index=False)"
   ]
  },
  {
   "cell_type": "markdown",
   "metadata": {},
   "source": [
    "## Sector Analysis 2"
   ]
  },
  {
   "cell_type": "code",
   "execution_count": 81,
   "metadata": {},
   "outputs": [
    {
     "data": {
      "text/plain": [
       "country_code\n",
       "USA    422516.84\n",
       "CHN     40164.30\n",
       "GBR     20309.70\n",
       "IND     14394.56\n",
       "CAN      9585.53\n",
       "FRA      7298.70\n",
       "ISR      6937.01\n",
       "DEU      6346.96\n",
       "JPN      3398.14\n",
       "SWE      3255.77\n",
       "Name: raised_amount_usd, dtype: float64"
      ]
     },
     "execution_count": 81,
     "metadata": {},
     "output_type": "execute_result"
    }
   ],
   "source": [
    "#check once again the top invested coutries\n",
    "master_df_venture = master_frame[master_frame.funding_round_type == \"venture\"]\n",
    "round(master_df_venture.groupby(\"country_code\").raised_amount_usd.sum().sort_values(ascending = False).head(10), 2)"
   ]
  },
  {
   "cell_type": "code",
   "execution_count": 82,
   "metadata": {},
   "outputs": [],
   "source": [
    "#1. Create three separate data frames D1, D2 and D3 for each of the three countries containing the observations of funding type FT falling within the 5-15 million USD range. The three data frames should contain:\n",
    "#a. All the columns of the master_frame along with the primary sector and the main sector\n",
    "\n",
    "#function to create country specific constrained dataframes\n",
    "def get_country_df(df, c_code, fund_type, inv_low, inv_high):\n",
    "    df = df.loc[(df.country_code == c_code) & (df.funding_round_type == fund_type) & (df.raised_amount_usd.between(inv_low, inv_high, inclusive=True))]\n",
    "    df\n",
    "    return df;"
   ]
  },
  {
   "cell_type": "code",
   "execution_count": 83,
   "metadata": {},
   "outputs": [],
   "source": [
    "#get country specific dataframes\n",
    "df_usa = get_country_df(master_frame, \"USA\", \"venture\", 5, 15)\n",
    "df_gbr = get_country_df(master_frame, \"GBR\", \"venture\", 5, 15)\n",
    "df_ind = get_country_df(master_frame, \"IND\", \"venture\", 5, 15)"
   ]
  },
  {
   "cell_type": "code",
   "execution_count": 84,
   "metadata": {},
   "outputs": [],
   "source": [
    "#b. The total number (or count) of investments for each main sector in a separate column\n",
    "#c. The total amount invested in each main sector in a separate column\n",
    "\n",
    "#function to calculate the metric b and c\n",
    "def get_m_sec_metric(df):\n",
    "    df = pd.merge(df, df.groupby(\"main_sector\").sum().rename(columns={\"raised_amount_usd\":\"total_investement_amount\"}), how = \"left\", left_on = \"main_sector\", right_on = \"main_sector\")\n",
    "    df = pd.merge(df, df.groupby(\"main_sector\").raised_amount_usd.count().to_frame().rename(columns={\"raised_amount_usd\":\"total_investement_num\"}), how = \"left\", left_on = \"main_sector\", right_on = \"main_sector\")\n",
    "    df\n",
    "    return df;"
   ]
  },
  {
   "cell_type": "code",
   "execution_count": 85,
   "metadata": {},
   "outputs": [],
   "source": [
    "#get sector metric\n",
    "df_usa = get_m_sec_metric(df_usa)\n",
    "df_gbr = get_m_sec_metric(df_gbr)\n",
    "df_ind = get_m_sec_metric(df_ind)\n",
    "\n",
    "df_usa.to_csv(\"df_usa.csv\", index=False)\n",
    "df_gbr.to_csv(\"df_gbr.csv\", index=False)\n",
    "df_ind.to_csv(\"df_ind.csv\", index=False)\n",
    "\n",
    "\n",
    "\n",
    "\n"
   ]
  },
  {
   "cell_type": "markdown",
   "metadata": {},
   "source": [
    "### Country_Sector-wise Investment Analysis-Metrics for Table 5.1"
   ]
  },
  {
   "cell_type": "code",
   "execution_count": 86,
   "metadata": {},
   "outputs": [],
   "source": [
    "def get_country_sector_metrics(df):\n",
    "    print(\"Total number of investments\")\n",
    "    print(df.funding_round_type.count())\n",
    "    print(\"Total amount of investment (USD)\")\n",
    "    #the above two metric not necessarily has to have a symmetric mapping.\n",
    "    #As both  may independently answer the two indpendent business question. \n",
    "    print(round(df.raised_amount_usd.sum()), 2)\n",
    "    print(\"Top Sector name (no. of investment-wise)\")\n",
    "    top_3 = df.groupby(\"main_sector\").main_sector.count().to_frame().sort_values(by = \"main_sector\", ascending = False).rename(columns={\"main_sector\":\"no. of investment\"}).head(3)\n",
    "    print(top_3)\n",
    "    print(\"\\nCompany receiving the highest investment in \" + top_3.index[0] + \":\")\n",
    "\n",
    "    print(round(df[df.main_sector == \n",
    "            top_3.index[0]].groupby([\"company_permalink\", \"name\"]).raised_amount_usd.sum().sort_values(ascending = False), 2).to_frame().index[0][1])\n",
    "    \n",
    "    print(\"\\nCompany receiving the highest investment in \" + top_3.index[1] + \":\")\n",
    "    print(round(df[df.main_sector == \n",
    "           top_3.index[1]].groupby([\"company_permalink\", \"name\"]).raised_amount_usd.sum().sort_values(ascending = False), 2).to_frame().index[0][1])\n"
   ]
  },
  {
   "cell_type": "code",
   "execution_count": 87,
   "metadata": {},
   "outputs": [
    {
     "name": "stdout",
     "output_type": "stream",
     "text": [
      "Total number of investments\n",
      "12151\n",
      "Total amount of investment (USD)\n",
      "108536.0 2\n",
      "Top Sector name (no. of investment-wise)\n",
      "                                         no. of investment\n",
      "main_sector                                               \n",
      "Others                                                3028\n",
      "Social, Finance, Analytics, Advertising               2672\n",
      "Cleantech / Semiconductors                            2347\n",
      "\n",
      "Company receiving the highest investment in Others:\n",
      "Virtustream\n",
      "\n",
      "Company receiving the highest investment in Social, Finance, Analytics, Advertising:\n",
      "SST Inc. (Formerly ShotSpotter)\n"
     ]
    }
   ],
   "source": [
    "#get metrics for USA\n",
    "get_country_sector_metrics(df_usa)"
   ]
  },
  {
   "cell_type": "code",
   "execution_count": 88,
   "metadata": {},
   "outputs": [
    {
     "name": "stdout",
     "output_type": "stream",
     "text": [
      "Total number of investments\n",
      "630\n",
      "Total amount of investment (USD)\n",
      "5455.0 2\n",
      "Top Sector name (no. of investment-wise)\n",
      "                                         no. of investment\n",
      "main_sector                                               \n",
      "Others                                                 153\n",
      "Social, Finance, Analytics, Advertising                130\n",
      "Cleantech / Semiconductors                             129\n",
      "\n",
      "Company receiving the highest investment in Others:\n",
      "Electric Cloud\n",
      "\n",
      "Company receiving the highest investment in Social, Finance, Analytics, Advertising:\n",
      "Celltick Technologies\n"
     ]
    }
   ],
   "source": [
    "#get metrics for Great Britain\n",
    "get_country_sector_metrics(df_gbr)"
   ]
  },
  {
   "cell_type": "code",
   "execution_count": 89,
   "metadata": {},
   "outputs": [
    {
     "name": "stdout",
     "output_type": "stream",
     "text": [
      "Total number of investments\n",
      "330\n",
      "Total amount of investment (USD)\n",
      "2977.0 2\n",
      "Top Sector name (no. of investment-wise)\n",
      "                                         no. of investment\n",
      "main_sector                                               \n",
      "Others                                                 110\n",
      "Social, Finance, Analytics, Advertising                 60\n",
      "News, Search and Messaging                              52\n",
      "\n",
      "Company receiving the highest investment in Others:\n",
      "FirstCry.com\n",
      "\n",
      "Company receiving the highest investment in Social, Finance, Analytics, Advertising:\n",
      "Manthan Systems\n"
     ]
    }
   ],
   "source": [
    "#Get metrics for India\n",
    "get_country_sector_metrics(df_ind)"
   ]
  }
 ],
 "metadata": {
  "kernelspec": {
   "display_name": "Python 3",
   "language": "python",
   "name": "python3"
  },
  "language_info": {
   "codemirror_mode": {
    "name": "ipython",
    "version": 3
   },
   "file_extension": ".py",
   "mimetype": "text/x-python",
   "name": "python",
   "nbconvert_exporter": "python",
   "pygments_lexer": "ipython3",
   "version": "3.6.5"
  }
 },
 "nbformat": 4,
 "nbformat_minor": 2
}
